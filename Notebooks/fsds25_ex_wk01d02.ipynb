{
 "cells": [
  {
   "cell_type": "markdown",
   "id": "feba84ac",
   "metadata": {},
   "source": [
    "# Fundamentals of Social Data Science 2025. Week 1. Day 2. Exercises\n",
    "\n",
    "This is our group assignment.\n",
    "\n",
    "You will be expected to submit an individual assignment on Tuesday at 12pm (not Monday) on Canvas. The sheet that you will be expected to submit will be released on Friday at 12pm. It is submitted on Tuesday because you will want to integrate your materials post-presentation. \n",
    "\n",
    "- That sheet will have a small number of individual questions related to Friday's assignment\n",
    "- It will include one question about your presentation. That question is reproduced below so there are no surprises. \n",
    "\n",
    "The assignment submission details will be posted on Canvas under assignments.\n",
    "\n",
    "To itemise: \n",
    "- Week 1. Day 2. Wednesday at 12pm: This \"getting started\" sheet is released. \n",
    "- Wednesday afternoon tutorial: We will want to ensure that you can get started on loading data. \n",
    "- Week 1. Day 3. Friday at 12pm: The individual assignment is released. \n",
    "- Week 1. Day 3. Friday afternoon tutorial: You will want to play with the Claude artifact as well as continue working with your group. \n",
    "- Week 2. Day 1. Monday at 12pm: An exercise will be released related to Network Canvas. It will require you to download Network Canvas interviewer from networkcanvas.com. \n",
    "- Week 2. Day 1. Monday afternoon tutorial: Bernie will explain the Network Canvas exercise as a part of the class. The tutorial period will be group presentations. \n",
    "- Tuesday at 12pm: Your individual assignment is due. \n",
    "- Tuesday at 12pm: Your group assignment should be posted. \n",
    "\n",
    "> **NOTE:** This assignment will use data from the web. This assignment has NOT been cleared for research via the CUREC process. It is an in-class assignment. Therefore, if you wish to publish anything from this analysis, you must first apply for a CUREC before publishing anything publicly with your Oxford affiliation. "
   ]
  },
  {
   "cell_type": "markdown",
   "id": "7404f3cb",
   "metadata": {},
   "source": [
    "# Group exercise: Getting started\n",
    "\n",
    "The group assignment will make use of the StackDownloader from the FSSTDS repository. This downloader (recently tested) will download, extract and process a StackExchange archive. It is pretty close to 'one click'. It creates a 'feather' archive, which is a very nice format for compressing DataFrames. You can open this in your own code. \n",
    "\n",
    "To begin, you will need to have everything installed for the StackDownloader. How do we do that? We install the requirements.\n",
    "\n",
    "- **Step 1.** Clone the FSSTDS repository. \n",
    "- **Step 2.** Open the Ch.00.Stack_downloader and 'select kernel', select \"Python Environments...\", \"Create Python Environment\", \"Venv -> Creates a `.venv` virtual environment in the current workspace\", select **Python 3.12**. Note 3.14 is untested. Select dependencies to install -> requirements.txt. \n",
    "- **Step 3.** Run the big code cell in Stack_downloader. Select a specific archive. \n",
    "- **Step 4.** Locate and load the DataFrame. You can now use the Stack Exchange in your work. \n",
    "\n",
    "Note if you get errors with PyArrow below, try restarting the kernel. "
   ]
  },
  {
   "cell_type": "code",
   "execution_count": 1,
   "id": "2a4ac8df",
   "metadata": {},
   "outputs": [
    {
     "name": "stdout",
     "output_type": "stream",
     "text": [
      "Requirement already satisfied: pandas in /Users/seb2244/Documents/fsstds/.venv312/lib/python3.12/site-packages (2.3.3)\n",
      "Requirement already satisfied: pyarrow in /Users/seb2244/Documents/fsstds/.venv312/lib/python3.12/site-packages (21.0.0)\n",
      "Requirement already satisfied: numpy>=1.26.0 in /Users/seb2244/Documents/fsstds/.venv312/lib/python3.12/site-packages (from pandas) (2.0.2)\n",
      "Requirement already satisfied: python-dateutil>=2.8.2 in /Users/seb2244/Documents/fsstds/.venv312/lib/python3.12/site-packages (from pandas) (2.9.0.post0)\n",
      "Requirement already satisfied: pytz>=2020.1 in /Users/seb2244/Documents/fsstds/.venv312/lib/python3.12/site-packages (from pandas) (2024.2)\n",
      "Requirement already satisfied: tzdata>=2022.7 in /Users/seb2244/Documents/fsstds/.venv312/lib/python3.12/site-packages (from pandas) (2024.2)\n",
      "Requirement already satisfied: six>=1.5 in /Users/seb2244/Documents/fsstds/.venv312/lib/python3.12/site-packages (from python-dateutil>=2.8.2->pandas) (1.16.0)\n"
     ]
    },
    {
     "name": "stderr",
     "output_type": "stream",
     "text": [
      "\n",
      "\u001b[1m[\u001b[0m\u001b[34;49mnotice\u001b[0m\u001b[1;39;49m]\u001b[0m\u001b[39;49m A new release of pip is available: \u001b[0m\u001b[31;49m24.2\u001b[0m\u001b[39;49m -> \u001b[0m\u001b[32;49m25.2\u001b[0m\n",
      "\u001b[1m[\u001b[0m\u001b[34;49mnotice\u001b[0m\u001b[1;39;49m]\u001b[0m\u001b[39;49m To update, run: \u001b[0m\u001b[32;49mpip install --upgrade pip\u001b[0m\n"
     ]
    },
    {
     "data": {
      "text/plain": [
       "0"
      ]
     },
     "execution_count": 1,
     "metadata": {},
     "output_type": "execute_result"
    }
   ],
   "source": [
    "# In case this Jupyter Notebook is in a different repo than FSSTDS, you may need to install\n",
    "# pandas and pyarrow to parse the file. \n",
    "import sys\n",
    "import subprocess\n",
    "\n",
    "subprocess.check_call([sys.executable, \"-m\", \"pip\", \"install\", \"--upgrade\", \"pandas\", \"pyarrow\"])"
   ]
  },
  {
   "cell_type": "code",
   "execution_count": 2,
   "id": "a4e2090c",
   "metadata": {},
   "outputs": [
    {
     "name": "stdout",
     "output_type": "stream",
     "text": [
      "<class 'pandas.core.frame.DataFrame'>\n",
      "RangeIndex: 44155 entries, 0 to 44154\n",
      "Data columns (total 25 columns):\n",
      " #   Column                 Non-Null Count  Dtype         \n",
      "---  ------                 --------------  -----         \n",
      " 0   Id                     44155 non-null  object        \n",
      " 1   PostTypeId             44155 non-null  object        \n",
      " 2   AcceptedAnswerId       7733 non-null   object        \n",
      " 3   CreationDate           44155 non-null  datetime64[ns]\n",
      " 4   Score                  44155 non-null  int64         \n",
      " 5   ViewCount              17860 non-null  float64       \n",
      " 6   Body                   44155 non-null  object        \n",
      " 7   OwnerUserId            43628 non-null  object        \n",
      " 8   LastEditorUserId       18450 non-null  object        \n",
      " 9   LastEditDate           18543 non-null  datetime64[ns]\n",
      " 10  LastActivityDate       44155 non-null  datetime64[ns]\n",
      " 11  Title                  17860 non-null  object        \n",
      " 12  Tags                   17860 non-null  object        \n",
      " 13  AnswerCount            17860 non-null  float64       \n",
      " 14  CommentCount           44155 non-null  int64         \n",
      " 15  ContentLicense         44155 non-null  object        \n",
      " 16  ParentId               25421 non-null  object        \n",
      " 17  FavoriteCount          275 non-null    float64       \n",
      " 18  CommunityOwnedDate     79 non-null     datetime64[ns]\n",
      " 19  OwnerDisplayName       799 non-null    object        \n",
      " 20  ClosedDate             548 non-null    datetime64[ns]\n",
      " 21  LastEditorDisplayName  96 non-null     object        \n",
      " 22  BodyText               44155 non-null  object        \n",
      " 23  BodyURLs               44155 non-null  object        \n",
      " 24  TagsList               44155 non-null  object        \n",
      "dtypes: datetime64[ns](5), float64(3), int64(2), object(15)\n",
      "memory usage: 8.4+ MB\n",
      "None\n"
     ]
    }
   ],
   "source": [
    "# Q0. Check that you can load your own DataFrame\n",
    " \n",
    "import pandas as pd \n",
    "\n",
    "stack_df = df = pd.read_feather('../data/gardening.stackexchange.com/Posts.feather')\n",
    "\n",
    "print(stack_df.info())"
   ]
  },
  {
   "cell_type": "markdown",
   "id": "95dce78f",
   "metadata": {},
   "source": [
    "# Q1. Navigating the data. \n",
    "\n",
    "Let's begin with some exploratory data analysis. Despite being a group assignment, you should individually be able to accomplish the following. \n",
    "\n",
    "1. The data contains different post types. How many questions and how many answers? Try: `display(stack_df['PostTypeId'].value_counts())` \n",
    "2. How many users are in this data set? \n",
    "3. What is the average score of the user?\n",
    "4. What is the average number of comments for the users?\n",
    "5. Plot the distribution of the number of comments by user. Is it normally distributed?  "
   ]
  },
  {
   "cell_type": "code",
   "execution_count": 3,
   "id": "32ca90d1",
   "metadata": {},
   "outputs": [],
   "source": [
    "# Answers to Q1.1...Q1.5 \n",
    "# (Unsubmitted; merely for practice and preparation; \n",
    "# every student should be able to do this themselves. \n",
    "\n"
   ]
  },
  {
   "cell_type": "markdown",
   "id": "5fa7c44f",
   "metadata": {},
   "source": [
    "## Q2. Defining helpfulness \n",
    "\n",
    "If you can describe the data simply then you are on your way to the big question for the group. Recall two of the trade-offs from the last lecture: \"operationalisation\" and \"coding\". The group project this week is very simple in some senses and very complex in other senses: \n",
    "\n",
    "Two questions: \n",
    "> - \"How can we identify the most helpful users in this space\" \n",
    "> - \"When were the helpful users the most helpful or most active?\"\n",
    "\n",
    "So this means that your group will have to discuss:\n",
    "- What defines helpfulness? Are there multiple possible metrics? \n",
    "- Do we think that a helpful person should _always_ be helpful? \n",
    "- Is helpfulness topic-specific? \n",
    "- You may want to explore wrangling the data by time. \n",
    "\n",
    "We do not expect you to merge in data from the users.xml / users.feather for this. However, you may want to explore how to create a datatime column. This is not covered in this lecture, but you may want to read either Chapter 10 of FSSTDS on cleaning data and Chapter 12 of FSSTDS on wrangling time data. \n",
    "\n",
    "You will want to divide some tasks among your group. Some might be delegated to surf the space online to come up with abductive hypotheses. Some might want to focus on rendering some charts. Some might be excellent at presentation design or at presenting to the group. Lean into your expertise and collaborate.\n",
    "\n",
    "Presentations for this will be on Monday afternoon. The presentations will be no more than 12 minutes + 3 minutes of questions & transition. \n",
    "\n",
    "Each group will have a 'space' on Canvas to submit 3 things: \n",
    "- the presentation \n",
    "- the code\n",
    "- the 'credits'. A single sheet (in docx/md) that details which group members participated in which ways. Treat this not merely as accountability but an opportunity to signal your own strengths. We do not expect everyone to do 1/5 of the work for every task. We do expect everyone to contribute in some way.\n",
    "\n",
    "This code will not be graded but it will be made available to other students. \n",
    "The presentations will be given short written feedback by the instructor post-presentation."
   ]
  },
  {
   "cell_type": "markdown",
   "id": "bbe8f9c4",
   "metadata": {},
   "source": [
    "# Import data"
   ]
  },
  {
   "cell_type": "code",
   "execution_count": 4,
   "id": "1382349b",
   "metadata": {},
   "outputs": [],
   "source": [
    "import pandas as pd"
   ]
  },
  {
   "cell_type": "code",
   "execution_count": 5,
   "id": "45eaed5e",
   "metadata": {},
   "outputs": [
    {
     "name": "stdout",
     "output_type": "stream",
     "text": [
      "<class 'pandas.core.frame.DataFrame'>\n",
      "RangeIndex: 44155 entries, 0 to 44154\n",
      "Data columns (total 25 columns):\n",
      " #   Column                 Non-Null Count  Dtype         \n",
      "---  ------                 --------------  -----         \n",
      " 0   Id                     44155 non-null  object        \n",
      " 1   PostTypeId             44155 non-null  object        \n",
      " 2   AcceptedAnswerId       7733 non-null   object        \n",
      " 3   CreationDate           44155 non-null  datetime64[ns]\n",
      " 4   Score                  44155 non-null  int64         \n",
      " 5   ViewCount              17860 non-null  float64       \n",
      " 6   Body                   44155 non-null  object        \n",
      " 7   OwnerUserId            43628 non-null  object        \n",
      " 8   LastEditorUserId       18450 non-null  object        \n",
      " 9   LastEditDate           18543 non-null  datetime64[ns]\n",
      " 10  LastActivityDate       44155 non-null  datetime64[ns]\n",
      " 11  Title                  17860 non-null  object        \n",
      " 12  Tags                   17860 non-null  object        \n",
      " 13  AnswerCount            17860 non-null  float64       \n",
      " 14  CommentCount           44155 non-null  int64         \n",
      " 15  ContentLicense         44155 non-null  object        \n",
      " 16  ParentId               25421 non-null  object        \n",
      " 17  FavoriteCount          275 non-null    float64       \n",
      " 18  CommunityOwnedDate     79 non-null     datetime64[ns]\n",
      " 19  OwnerDisplayName       799 non-null    object        \n",
      " 20  ClosedDate             548 non-null    datetime64[ns]\n",
      " 21  LastEditorDisplayName  96 non-null     object        \n",
      " 22  BodyText               44155 non-null  object        \n",
      " 23  BodyURLs               44155 non-null  object        \n",
      " 24  TagsList               44155 non-null  object        \n",
      "dtypes: datetime64[ns](5), float64(3), int64(2), object(15)\n",
      "memory usage: 8.4+ MB\n"
     ]
    }
   ],
   "source": [
    "post_df = pd.read_feather('../data/gardening.stackexchange.com/Posts.feather')\n",
    "post_df.info()"
   ]
  },
  {
   "cell_type": "code",
   "execution_count": 6,
   "id": "79029e6c",
   "metadata": {},
   "outputs": [
    {
     "data": {
      "text/plain": [
       "Index(['Id', 'PostTypeId', 'AcceptedAnswerId', 'CreationDate', 'Score',\n",
       "       'ViewCount', 'Body', 'OwnerUserId', 'LastEditorUserId', 'LastEditDate',\n",
       "       'LastActivityDate', 'Title', 'Tags', 'AnswerCount', 'CommentCount',\n",
       "       'ContentLicense', 'ParentId', 'FavoriteCount', 'CommunityOwnedDate',\n",
       "       'OwnerDisplayName', 'ClosedDate', 'LastEditorDisplayName', 'BodyText',\n",
       "       'BodyURLs', 'TagsList'],\n",
       "      dtype='object')"
      ]
     },
     "execution_count": 6,
     "metadata": {},
     "output_type": "execute_result"
    }
   ],
   "source": [
    "post_df.columns"
   ]
  },
  {
   "cell_type": "code",
   "execution_count": 7,
   "id": "398f0a59",
   "metadata": {},
   "outputs": [
    {
     "name": "stdout",
     "output_type": "stream",
     "text": [
      "<class 'pandas.core.frame.DataFrame'>\n",
      "RangeIndex: 29094 entries, 0 to 29093\n",
      "Data columns (total 14 columns):\n",
      " #   Column          Non-Null Count  Dtype         \n",
      "---  ------          --------------  -----         \n",
      " 0   Id              29094 non-null  object        \n",
      " 1   Reputation      29094 non-null  int64         \n",
      " 2   CreationDate    29094 non-null  datetime64[ns]\n",
      " 3   DisplayName     29094 non-null  object        \n",
      " 4   LastAccessDate  29094 non-null  datetime64[ns]\n",
      " 5   WebsiteUrl      5615 non-null   object        \n",
      " 6   Location        9358 non-null   object        \n",
      " 7   AboutMe         8833 non-null   object        \n",
      " 8   Views           29094 non-null  int64         \n",
      " 9   UpVotes         29094 non-null  int64         \n",
      " 10  DownVotes       29094 non-null  int64         \n",
      " 11  AccountId       29094 non-null  object        \n",
      " 12  AboutMeText     8833 non-null   object        \n",
      " 13  AboutMeURLs     8833 non-null   object        \n",
      "dtypes: datetime64[ns](2), int64(4), object(8)\n",
      "memory usage: 3.1+ MB\n"
     ]
    }
   ],
   "source": [
    "user_df = pd.read_feather('../data/gardening.stackexchange.com/Users.feather')\n",
    "user_df.info()"
   ]
  },
  {
   "cell_type": "markdown",
   "id": "8b2f4bca",
   "metadata": {},
   "source": [
    "# Clean data"
   ]
  },
  {
   "cell_type": "code",
   "execution_count": 8,
   "id": "64ebb72c",
   "metadata": {},
   "outputs": [
    {
     "data": {
      "text/plain": [
       "0   2011-06-08 18:35:50.450\n",
       "1   2011-06-08 18:37:12.493\n",
       "2   2011-06-08 18:37:45.593\n",
       "3   2011-06-08 18:37:53.583\n",
       "4   2011-06-08 18:38:53.847\n",
       "Name: CreationDate, dtype: datetime64[ns]"
      ]
     },
     "execution_count": 8,
     "metadata": {},
     "output_type": "execute_result"
    }
   ],
   "source": [
    "post_df['CreationDate'] = pd.to_datetime(post_df['CreationDate'])\n",
    "post_df['CreationDate'].head()"
   ]
  },
  {
   "cell_type": "code",
   "execution_count": 9,
   "id": "39b0554e",
   "metadata": {},
   "outputs": [
    {
     "data": {
      "text/html": [
       "<div>\n",
       "<style scoped>\n",
       "    .dataframe tbody tr th:only-of-type {\n",
       "        vertical-align: middle;\n",
       "    }\n",
       "\n",
       "    .dataframe tbody tr th {\n",
       "        vertical-align: top;\n",
       "    }\n",
       "\n",
       "    .dataframe thead th {\n",
       "        text-align: right;\n",
       "    }\n",
       "</style>\n",
       "<table border=\"1\" class=\"dataframe\">\n",
       "  <thead>\n",
       "    <tr style=\"text-align: right;\">\n",
       "      <th></th>\n",
       "      <th>Id</th>\n",
       "      <th>PostTypeId</th>\n",
       "      <th>AcceptedAnswerId</th>\n",
       "      <th>CreationDate</th>\n",
       "      <th>Score</th>\n",
       "      <th>ViewCount</th>\n",
       "      <th>Body</th>\n",
       "      <th>OwnerUserId</th>\n",
       "      <th>LastEditorUserId</th>\n",
       "      <th>LastEditDate</th>\n",
       "      <th>...</th>\n",
       "      <th>ParentId</th>\n",
       "      <th>FavoriteCount</th>\n",
       "      <th>CommunityOwnedDate</th>\n",
       "      <th>OwnerDisplayName</th>\n",
       "      <th>ClosedDate</th>\n",
       "      <th>LastEditorDisplayName</th>\n",
       "      <th>BodyText</th>\n",
       "      <th>BodyURLs</th>\n",
       "      <th>TagsList</th>\n",
       "      <th>PostType</th>\n",
       "    </tr>\n",
       "  </thead>\n",
       "  <tbody>\n",
       "    <tr>\n",
       "      <th>0</th>\n",
       "      <td>1</td>\n",
       "      <td>1</td>\n",
       "      <td>9</td>\n",
       "      <td>2011-06-08 18:35:50.450</td>\n",
       "      <td>27</td>\n",
       "      <td>152839.0</td>\n",
       "      <td>&lt;p&gt;Which side of a house will get the most sun...</td>\n",
       "      <td>9</td>\n",
       "      <td>109</td>\n",
       "      <td>2011-07-25 05:14:51.753</td>\n",
       "      <td>...</td>\n",
       "      <td>None</td>\n",
       "      <td>NaN</td>\n",
       "      <td>NaT</td>\n",
       "      <td>None</td>\n",
       "      <td>NaT</td>\n",
       "      <td>None</td>\n",
       "      <td>Which side of a house will get the most sunlig...</td>\n",
       "      <td>[]</td>\n",
       "      <td>[houseplants|sunlight]</td>\n",
       "      <td>Q</td>\n",
       "    </tr>\n",
       "    <tr>\n",
       "      <th>1</th>\n",
       "      <td>2</td>\n",
       "      <td>1</td>\n",
       "      <td>64</td>\n",
       "      <td>2011-06-08 18:37:12.493</td>\n",
       "      <td>28</td>\n",
       "      <td>3128.0</td>\n",
       "      <td>&lt;p&gt;When I try to grow \"upside-down\" tomatoes, ...</td>\n",
       "      <td>11</td>\n",
       "      <td>109</td>\n",
       "      <td>2011-07-06 19:04:30.607</td>\n",
       "      <td>...</td>\n",
       "      <td>None</td>\n",
       "      <td>NaN</td>\n",
       "      <td>NaT</td>\n",
       "      <td>None</td>\n",
       "      <td>NaT</td>\n",
       "      <td>None</td>\n",
       "      <td>When I try to grow \"upside-down\" tomatoes, the...</td>\n",
       "      <td>[]</td>\n",
       "      <td>[tomatoes]</td>\n",
       "      <td>Q</td>\n",
       "    </tr>\n",
       "    <tr>\n",
       "      <th>2</th>\n",
       "      <td>3</td>\n",
       "      <td>1</td>\n",
       "      <td>29</td>\n",
       "      <td>2011-06-08 18:37:45.593</td>\n",
       "      <td>35</td>\n",
       "      <td>4732.0</td>\n",
       "      <td>&lt;p&gt;I've got what I think is a cedar tree in my...</td>\n",
       "      <td>6</td>\n",
       "      <td>109</td>\n",
       "      <td>2011-07-17 14:35:42.393</td>\n",
       "      <td>...</td>\n",
       "      <td>None</td>\n",
       "      <td>NaN</td>\n",
       "      <td>NaT</td>\n",
       "      <td>None</td>\n",
       "      <td>NaT</td>\n",
       "      <td>None</td>\n",
       "      <td>I've got what I think is a cedar tree in my ba...</td>\n",
       "      <td>[]</td>\n",
       "      <td>[trees|tree-care]</td>\n",
       "      <td>Q</td>\n",
       "    </tr>\n",
       "    <tr>\n",
       "      <th>3</th>\n",
       "      <td>4</td>\n",
       "      <td>1</td>\n",
       "      <td>11</td>\n",
       "      <td>2011-06-08 18:37:53.583</td>\n",
       "      <td>31</td>\n",
       "      <td>404.0</td>\n",
       "      <td>&lt;p&gt;I've got a big, lovely rhubarb plant in my ...</td>\n",
       "      <td>20</td>\n",
       "      <td>7305</td>\n",
       "      <td>2016-02-19 00:47:35.537</td>\n",
       "      <td>...</td>\n",
       "      <td>None</td>\n",
       "      <td>NaN</td>\n",
       "      <td>NaT</td>\n",
       "      <td>None</td>\n",
       "      <td>NaT</td>\n",
       "      <td>None</td>\n",
       "      <td>I've got a big, lovely rhubarb plant in my yar...</td>\n",
       "      <td>[]</td>\n",
       "      <td>[rhubarb|vegetables|harvesting]</td>\n",
       "      <td>Q</td>\n",
       "    </tr>\n",
       "    <tr>\n",
       "      <th>4</th>\n",
       "      <td>5</td>\n",
       "      <td>2</td>\n",
       "      <td>None</td>\n",
       "      <td>2011-06-08 18:38:53.847</td>\n",
       "      <td>10</td>\n",
       "      <td>NaN</td>\n",
       "      <td>&lt;p&gt;This question depends on context.  &lt;/p&gt;\\n\\n...</td>\n",
       "      <td>31</td>\n",
       "      <td>31</td>\n",
       "      <td>2011-06-08 19:09:41.273</td>\n",
       "      <td>...</td>\n",
       "      <td>1</td>\n",
       "      <td>NaN</td>\n",
       "      <td>NaT</td>\n",
       "      <td>None</td>\n",
       "      <td>NaT</td>\n",
       "      <td>None</td>\n",
       "      <td>This question depends on context.    I could s...</td>\n",
       "      <td>[]</td>\n",
       "      <td>[]</td>\n",
       "      <td>A</td>\n",
       "    </tr>\n",
       "  </tbody>\n",
       "</table>\n",
       "<p>5 rows × 26 columns</p>\n",
       "</div>"
      ],
      "text/plain": [
       "  Id PostTypeId AcceptedAnswerId            CreationDate  Score  ViewCount  \\\n",
       "0  1          1                9 2011-06-08 18:35:50.450     27   152839.0   \n",
       "1  2          1               64 2011-06-08 18:37:12.493     28     3128.0   \n",
       "2  3          1               29 2011-06-08 18:37:45.593     35     4732.0   \n",
       "3  4          1               11 2011-06-08 18:37:53.583     31      404.0   \n",
       "4  5          2             None 2011-06-08 18:38:53.847     10        NaN   \n",
       "\n",
       "                                                Body OwnerUserId  \\\n",
       "0  <p>Which side of a house will get the most sun...           9   \n",
       "1  <p>When I try to grow \"upside-down\" tomatoes, ...          11   \n",
       "2  <p>I've got what I think is a cedar tree in my...           6   \n",
       "3  <p>I've got a big, lovely rhubarb plant in my ...          20   \n",
       "4  <p>This question depends on context.  </p>\\n\\n...          31   \n",
       "\n",
       "  LastEditorUserId            LastEditDate  ... ParentId FavoriteCount  \\\n",
       "0              109 2011-07-25 05:14:51.753  ...     None           NaN   \n",
       "1              109 2011-07-06 19:04:30.607  ...     None           NaN   \n",
       "2              109 2011-07-17 14:35:42.393  ...     None           NaN   \n",
       "3             7305 2016-02-19 00:47:35.537  ...     None           NaN   \n",
       "4               31 2011-06-08 19:09:41.273  ...        1           NaN   \n",
       "\n",
       "  CommunityOwnedDate  OwnerDisplayName  ClosedDate LastEditorDisplayName  \\\n",
       "0                NaT              None         NaT                  None   \n",
       "1                NaT              None         NaT                  None   \n",
       "2                NaT              None         NaT                  None   \n",
       "3                NaT              None         NaT                  None   \n",
       "4                NaT              None         NaT                  None   \n",
       "\n",
       "                                            BodyText  BodyURLs  \\\n",
       "0  Which side of a house will get the most sunlig...        []   \n",
       "1  When I try to grow \"upside-down\" tomatoes, the...        []   \n",
       "2  I've got what I think is a cedar tree in my ba...        []   \n",
       "3  I've got a big, lovely rhubarb plant in my yar...        []   \n",
       "4  This question depends on context.    I could s...        []   \n",
       "\n",
       "                          TagsList PostType  \n",
       "0           [houseplants|sunlight]        Q  \n",
       "1                       [tomatoes]        Q  \n",
       "2                [trees|tree-care]        Q  \n",
       "3  [rhubarb|vegetables|harvesting]        Q  \n",
       "4                               []        A  \n",
       "\n",
       "[5 rows x 26 columns]"
      ]
     },
     "execution_count": 9,
     "metadata": {},
     "output_type": "execute_result"
    }
   ],
   "source": [
    "post_df = post_df[post_df['PostTypeId'].isin(['1', '2'])].copy() # filter posts to questions (type 1) and answers (type 2)\n",
    "post_df['PostType'] = post_df['PostTypeId'].map({'1': 'Q', '2': 'A'})\n",
    "post_df.head()"
   ]
  },
  {
   "cell_type": "markdown",
   "id": "372f5a2b",
   "metadata": {},
   "source": [
    "# Join questions to answers "
   ]
  },
  {
   "cell_type": "code",
   "execution_count": 10,
   "id": "32c52c5b",
   "metadata": {},
   "outputs": [],
   "source": [
    "right = post_df[['Id', 'CreationDate', 'Score', 'OwnerUserId']]"
   ]
  },
  {
   "cell_type": "code",
   "execution_count": 11,
   "id": "60966ff3",
   "metadata": {},
   "outputs": [
    {
     "data": {
      "text/html": [
       "<div>\n",
       "<style scoped>\n",
       "    .dataframe tbody tr th:only-of-type {\n",
       "        vertical-align: middle;\n",
       "    }\n",
       "\n",
       "    .dataframe tbody tr th {\n",
       "        vertical-align: top;\n",
       "    }\n",
       "\n",
       "    .dataframe thead th {\n",
       "        text-align: right;\n",
       "    }\n",
       "</style>\n",
       "<table border=\"1\" class=\"dataframe\">\n",
       "  <thead>\n",
       "    <tr style=\"text-align: right;\">\n",
       "      <th></th>\n",
       "      <th>Id_x</th>\n",
       "      <th>PostTypeId</th>\n",
       "      <th>AcceptedAnswerId</th>\n",
       "      <th>CreationDate_x</th>\n",
       "      <th>Score_x</th>\n",
       "      <th>ViewCount</th>\n",
       "      <th>Body</th>\n",
       "      <th>OwnerUserId_x</th>\n",
       "      <th>LastEditorUserId</th>\n",
       "      <th>LastEditDate</th>\n",
       "      <th>...</th>\n",
       "      <th>ClosedDate</th>\n",
       "      <th>LastEditorDisplayName</th>\n",
       "      <th>BodyText</th>\n",
       "      <th>BodyURLs</th>\n",
       "      <th>TagsList</th>\n",
       "      <th>PostType</th>\n",
       "      <th>Id_y</th>\n",
       "      <th>CreationDate_y</th>\n",
       "      <th>Score_y</th>\n",
       "      <th>OwnerUserId_y</th>\n",
       "    </tr>\n",
       "  </thead>\n",
       "  <tbody>\n",
       "    <tr>\n",
       "      <th>0</th>\n",
       "      <td>1</td>\n",
       "      <td>1</td>\n",
       "      <td>9</td>\n",
       "      <td>2011-06-08 18:35:50.450</td>\n",
       "      <td>27</td>\n",
       "      <td>152839.0</td>\n",
       "      <td>&lt;p&gt;Which side of a house will get the most sun...</td>\n",
       "      <td>9</td>\n",
       "      <td>109</td>\n",
       "      <td>2011-07-25 05:14:51.753</td>\n",
       "      <td>...</td>\n",
       "      <td>NaT</td>\n",
       "      <td>None</td>\n",
       "      <td>Which side of a house will get the most sunlig...</td>\n",
       "      <td>[]</td>\n",
       "      <td>[houseplants|sunlight]</td>\n",
       "      <td>Q</td>\n",
       "      <td>9</td>\n",
       "      <td>2011-06-08 18:39:49.137</td>\n",
       "      <td>30.0</td>\n",
       "      <td>32</td>\n",
       "    </tr>\n",
       "    <tr>\n",
       "      <th>1</th>\n",
       "      <td>2</td>\n",
       "      <td>1</td>\n",
       "      <td>64</td>\n",
       "      <td>2011-06-08 18:37:12.493</td>\n",
       "      <td>28</td>\n",
       "      <td>3128.0</td>\n",
       "      <td>&lt;p&gt;When I try to grow \"upside-down\" tomatoes, ...</td>\n",
       "      <td>11</td>\n",
       "      <td>109</td>\n",
       "      <td>2011-07-06 19:04:30.607</td>\n",
       "      <td>...</td>\n",
       "      <td>NaT</td>\n",
       "      <td>None</td>\n",
       "      <td>When I try to grow \"upside-down\" tomatoes, the...</td>\n",
       "      <td>[]</td>\n",
       "      <td>[tomatoes]</td>\n",
       "      <td>Q</td>\n",
       "      <td>64</td>\n",
       "      <td>2011-06-08 19:27:25.093</td>\n",
       "      <td>19.0</td>\n",
       "      <td>60</td>\n",
       "    </tr>\n",
       "    <tr>\n",
       "      <th>2</th>\n",
       "      <td>3</td>\n",
       "      <td>1</td>\n",
       "      <td>29</td>\n",
       "      <td>2011-06-08 18:37:45.593</td>\n",
       "      <td>35</td>\n",
       "      <td>4732.0</td>\n",
       "      <td>&lt;p&gt;I've got what I think is a cedar tree in my...</td>\n",
       "      <td>6</td>\n",
       "      <td>109</td>\n",
       "      <td>2011-07-17 14:35:42.393</td>\n",
       "      <td>...</td>\n",
       "      <td>NaT</td>\n",
       "      <td>None</td>\n",
       "      <td>I've got what I think is a cedar tree in my ba...</td>\n",
       "      <td>[]</td>\n",
       "      <td>[trees|tree-care]</td>\n",
       "      <td>Q</td>\n",
       "      <td>29</td>\n",
       "      <td>2011-06-08 18:58:57.390</td>\n",
       "      <td>19.0</td>\n",
       "      <td>47</td>\n",
       "    </tr>\n",
       "    <tr>\n",
       "      <th>3</th>\n",
       "      <td>4</td>\n",
       "      <td>1</td>\n",
       "      <td>11</td>\n",
       "      <td>2011-06-08 18:37:53.583</td>\n",
       "      <td>31</td>\n",
       "      <td>404.0</td>\n",
       "      <td>&lt;p&gt;I've got a big, lovely rhubarb plant in my ...</td>\n",
       "      <td>20</td>\n",
       "      <td>7305</td>\n",
       "      <td>2016-02-19 00:47:35.537</td>\n",
       "      <td>...</td>\n",
       "      <td>NaT</td>\n",
       "      <td>None</td>\n",
       "      <td>I've got a big, lovely rhubarb plant in my yar...</td>\n",
       "      <td>[]</td>\n",
       "      <td>[rhubarb|vegetables|harvesting]</td>\n",
       "      <td>Q</td>\n",
       "      <td>11</td>\n",
       "      <td>2011-06-08 18:40:29.263</td>\n",
       "      <td>23.0</td>\n",
       "      <td>23</td>\n",
       "    </tr>\n",
       "    <tr>\n",
       "      <th>4</th>\n",
       "      <td>5</td>\n",
       "      <td>2</td>\n",
       "      <td>None</td>\n",
       "      <td>2011-06-08 18:38:53.847</td>\n",
       "      <td>10</td>\n",
       "      <td>NaN</td>\n",
       "      <td>&lt;p&gt;This question depends on context.  &lt;/p&gt;\\n\\n...</td>\n",
       "      <td>31</td>\n",
       "      <td>31</td>\n",
       "      <td>2011-06-08 19:09:41.273</td>\n",
       "      <td>...</td>\n",
       "      <td>NaT</td>\n",
       "      <td>None</td>\n",
       "      <td>This question depends on context.    I could s...</td>\n",
       "      <td>[]</td>\n",
       "      <td>[]</td>\n",
       "      <td>A</td>\n",
       "      <td>NaN</td>\n",
       "      <td>NaT</td>\n",
       "      <td>NaN</td>\n",
       "      <td>NaN</td>\n",
       "    </tr>\n",
       "  </tbody>\n",
       "</table>\n",
       "<p>5 rows × 30 columns</p>\n",
       "</div>"
      ],
      "text/plain": [
       "  Id_x PostTypeId AcceptedAnswerId          CreationDate_x  Score_x  \\\n",
       "0    1          1                9 2011-06-08 18:35:50.450       27   \n",
       "1    2          1               64 2011-06-08 18:37:12.493       28   \n",
       "2    3          1               29 2011-06-08 18:37:45.593       35   \n",
       "3    4          1               11 2011-06-08 18:37:53.583       31   \n",
       "4    5          2             None 2011-06-08 18:38:53.847       10   \n",
       "\n",
       "   ViewCount                                               Body OwnerUserId_x  \\\n",
       "0   152839.0  <p>Which side of a house will get the most sun...             9   \n",
       "1     3128.0  <p>When I try to grow \"upside-down\" tomatoes, ...            11   \n",
       "2     4732.0  <p>I've got what I think is a cedar tree in my...             6   \n",
       "3      404.0  <p>I've got a big, lovely rhubarb plant in my ...            20   \n",
       "4        NaN  <p>This question depends on context.  </p>\\n\\n...            31   \n",
       "\n",
       "  LastEditorUserId            LastEditDate  ... ClosedDate  \\\n",
       "0              109 2011-07-25 05:14:51.753  ...        NaT   \n",
       "1              109 2011-07-06 19:04:30.607  ...        NaT   \n",
       "2              109 2011-07-17 14:35:42.393  ...        NaT   \n",
       "3             7305 2016-02-19 00:47:35.537  ...        NaT   \n",
       "4               31 2011-06-08 19:09:41.273  ...        NaT   \n",
       "\n",
       "  LastEditorDisplayName                                           BodyText  \\\n",
       "0                  None  Which side of a house will get the most sunlig...   \n",
       "1                  None  When I try to grow \"upside-down\" tomatoes, the...   \n",
       "2                  None  I've got what I think is a cedar tree in my ba...   \n",
       "3                  None  I've got a big, lovely rhubarb plant in my yar...   \n",
       "4                  None  This question depends on context.    I could s...   \n",
       "\n",
       "   BodyURLs                         TagsList PostType Id_y  \\\n",
       "0        []           [houseplants|sunlight]        Q    9   \n",
       "1        []                       [tomatoes]        Q   64   \n",
       "2        []                [trees|tree-care]        Q   29   \n",
       "3        []  [rhubarb|vegetables|harvesting]        Q   11   \n",
       "4        []                               []        A  NaN   \n",
       "\n",
       "           CreationDate_y Score_y OwnerUserId_y  \n",
       "0 2011-06-08 18:39:49.137    30.0            32  \n",
       "1 2011-06-08 19:27:25.093    19.0            60  \n",
       "2 2011-06-08 18:58:57.390    19.0            47  \n",
       "3 2011-06-08 18:40:29.263    23.0            23  \n",
       "4                     NaT     NaN           NaN  \n",
       "\n",
       "[5 rows x 30 columns]"
      ]
     },
     "execution_count": 11,
     "metadata": {},
     "output_type": "execute_result"
    }
   ],
   "source": [
    "post_df = pd.merge(left = post_df, right = right, how = 'left', left_on = 'AcceptedAnswerId', right_on = 'Id')\n",
    "post_df.head()"
   ]
  },
  {
   "cell_type": "code",
   "execution_count": 12,
   "id": "0219a309",
   "metadata": {},
   "outputs": [],
   "source": [
    "question_df = post_df[post_df['PostType'] == 'Q']"
   ]
  },
  {
   "cell_type": "markdown",
   "id": "b5b6fec2",
   "metadata": {},
   "source": [
    "# Exploratory analysis around questions/answers "
   ]
  },
  {
   "cell_type": "code",
   "execution_count": 13,
   "id": "0a65aa65",
   "metadata": {},
   "outputs": [
    {
     "data": {
      "text/plain": [
       "PostType\n",
       "A    25421\n",
       "Q    17860\n",
       "Name: count, dtype: int64"
      ]
     },
     "execution_count": 13,
     "metadata": {},
     "output_type": "execute_result"
    }
   ],
   "source": [
    "post_df.PostType.value_counts()"
   ]
  },
  {
   "cell_type": "code",
   "execution_count": 14,
   "id": "c5c81613",
   "metadata": {},
   "outputs": [
    {
     "data": {
      "text/plain": [
       "AcceptedAnswerId\n",
       "True     10127\n",
       "False     7733\n",
       "Name: count, dtype: int64"
      ]
     },
     "execution_count": 14,
     "metadata": {},
     "output_type": "execute_result"
    }
   ],
   "source": [
    "question_df.AcceptedAnswerId.isna().value_counts()"
   ]
  },
  {
   "cell_type": "code",
   "execution_count": 15,
   "id": "c8a0e03c",
   "metadata": {},
   "outputs": [
    {
     "data": {
      "text/plain": [
       "AcceptedAnswerId\n",
       "True     0.567021\n",
       "False    0.432979\n",
       "Name: proportion, dtype: float64"
      ]
     },
     "execution_count": 15,
     "metadata": {},
     "output_type": "execute_result"
    }
   ],
   "source": [
    "question_df.AcceptedAnswerId.isna().value_counts(normalize=True)"
   ]
  },
  {
   "cell_type": "code",
   "execution_count": 16,
   "id": "8f234c1f",
   "metadata": {},
   "outputs": [
    {
     "name": "stderr",
     "output_type": "stream",
     "text": [
      "/var/folders/92/wbzrs_790cx5cmbrl2t79xx00000gn/T/ipykernel_20823/1395496024.py:1: SettingWithCopyWarning: \n",
      "A value is trying to be set on a copy of a slice from a DataFrame.\n",
      "Try using .loc[row_indexer,col_indexer] = value instead\n",
      "\n",
      "See the caveats in the documentation: https://pandas.pydata.org/pandas-docs/stable/user_guide/indexing.html#returning-a-view-versus-a-copy\n",
      "  question_df['is_answered'] = question_df['AnswerCount'] > 0\n"
     ]
    },
    {
     "data": {
      "text/plain": [
       "is_answered\n",
       "True     0.856047\n",
       "False    0.143953\n",
       "Name: proportion, dtype: float64"
      ]
     },
     "execution_count": 16,
     "metadata": {},
     "output_type": "execute_result"
    }
   ],
   "source": [
    "question_df['is_answered'] = question_df['AnswerCount'] > 0\n",
    "question_df['is_answered'].value_counts(normalize = True)"
   ]
  },
  {
   "cell_type": "markdown",
   "id": "c03f6f57",
   "metadata": {},
   "source": [
    "# Create \"helpful\" indicator variables "
   ]
  },
  {
   "cell_type": "code",
   "execution_count": 17,
   "id": "ef8e3aa6",
   "metadata": {},
   "outputs": [
    {
     "name": "stderr",
     "output_type": "stream",
     "text": [
      "/var/folders/92/wbzrs_790cx5cmbrl2t79xx00000gn/T/ipykernel_20823/1388405112.py:1: SettingWithCopyWarning: \n",
      "A value is trying to be set on a copy of a slice from a DataFrame.\n",
      "Try using .loc[row_indexer,col_indexer] = value instead\n",
      "\n",
      "See the caveats in the documentation: https://pandas.pydata.org/pandas-docs/stable/user_guide/indexing.html#returning-a-view-versus-a-copy\n",
      "  question_df['accepted_answer_delay'] = question_df['CreationDate_y'] - question_df['CreationDate_x']\n",
      "/var/folders/92/wbzrs_790cx5cmbrl2t79xx00000gn/T/ipykernel_20823/1388405112.py:2: SettingWithCopyWarning: \n",
      "A value is trying to be set on a copy of a slice from a DataFrame.\n",
      "Try using .loc[row_indexer,col_indexer] = value instead\n",
      "\n",
      "See the caveats in the documentation: https://pandas.pydata.org/pandas-docs/stable/user_guide/indexing.html#returning-a-view-versus-a-copy\n",
      "  question_df['is_timely'] = question_df['accepted_answer_delay'].dt.days <= 2\n",
      "/var/folders/92/wbzrs_790cx5cmbrl2t79xx00000gn/T/ipykernel_20823/1388405112.py:3: SettingWithCopyWarning: \n",
      "A value is trying to be set on a copy of a slice from a DataFrame.\n",
      "Try using .loc[row_indexer,col_indexer] = value instead\n",
      "\n",
      "See the caveats in the documentation: https://pandas.pydata.org/pandas-docs/stable/user_guide/indexing.html#returning-a-view-versus-a-copy\n",
      "  question_df['is_accepted_answer'] = ~question_df['AcceptedAnswerId'].isna()\n",
      "/var/folders/92/wbzrs_790cx5cmbrl2t79xx00000gn/T/ipykernel_20823/1388405112.py:4: SettingWithCopyWarning: \n",
      "A value is trying to be set on a copy of a slice from a DataFrame.\n",
      "Try using .loc[row_indexer,col_indexer] = value instead\n",
      "\n",
      "See the caveats in the documentation: https://pandas.pydata.org/pandas-docs/stable/user_guide/indexing.html#returning-a-view-versus-a-copy\n",
      "  question_df['is_helpful'] = question_df['is_accepted_answer'] & question_df['is_timely']\n"
     ]
    },
    {
     "data": {
      "text/html": [
       "<div>\n",
       "<style scoped>\n",
       "    .dataframe tbody tr th:only-of-type {\n",
       "        vertical-align: middle;\n",
       "    }\n",
       "\n",
       "    .dataframe tbody tr th {\n",
       "        vertical-align: top;\n",
       "    }\n",
       "\n",
       "    .dataframe thead th {\n",
       "        text-align: right;\n",
       "    }\n",
       "</style>\n",
       "<table border=\"1\" class=\"dataframe\">\n",
       "  <thead>\n",
       "    <tr style=\"text-align: right;\">\n",
       "      <th></th>\n",
       "      <th>Id_x</th>\n",
       "      <th>PostTypeId</th>\n",
       "      <th>AcceptedAnswerId</th>\n",
       "      <th>CreationDate_x</th>\n",
       "      <th>Score_x</th>\n",
       "      <th>ViewCount</th>\n",
       "      <th>Body</th>\n",
       "      <th>OwnerUserId_x</th>\n",
       "      <th>LastEditorUserId</th>\n",
       "      <th>LastEditDate</th>\n",
       "      <th>...</th>\n",
       "      <th>PostType</th>\n",
       "      <th>Id_y</th>\n",
       "      <th>CreationDate_y</th>\n",
       "      <th>Score_y</th>\n",
       "      <th>OwnerUserId_y</th>\n",
       "      <th>is_answered</th>\n",
       "      <th>accepted_answer_delay</th>\n",
       "      <th>is_timely</th>\n",
       "      <th>is_accepted_answer</th>\n",
       "      <th>is_helpful</th>\n",
       "    </tr>\n",
       "  </thead>\n",
       "  <tbody>\n",
       "    <tr>\n",
       "      <th>0</th>\n",
       "      <td>1</td>\n",
       "      <td>1</td>\n",
       "      <td>9</td>\n",
       "      <td>2011-06-08 18:35:50.450</td>\n",
       "      <td>27</td>\n",
       "      <td>152839.0</td>\n",
       "      <td>&lt;p&gt;Which side of a house will get the most sun...</td>\n",
       "      <td>9</td>\n",
       "      <td>109</td>\n",
       "      <td>2011-07-25 05:14:51.753</td>\n",
       "      <td>...</td>\n",
       "      <td>Q</td>\n",
       "      <td>9</td>\n",
       "      <td>2011-06-08 18:39:49.137</td>\n",
       "      <td>30.0</td>\n",
       "      <td>32</td>\n",
       "      <td>True</td>\n",
       "      <td>0 days 00:03:58.687000</td>\n",
       "      <td>True</td>\n",
       "      <td>True</td>\n",
       "      <td>True</td>\n",
       "    </tr>\n",
       "    <tr>\n",
       "      <th>1</th>\n",
       "      <td>2</td>\n",
       "      <td>1</td>\n",
       "      <td>64</td>\n",
       "      <td>2011-06-08 18:37:12.493</td>\n",
       "      <td>28</td>\n",
       "      <td>3128.0</td>\n",
       "      <td>&lt;p&gt;When I try to grow \"upside-down\" tomatoes, ...</td>\n",
       "      <td>11</td>\n",
       "      <td>109</td>\n",
       "      <td>2011-07-06 19:04:30.607</td>\n",
       "      <td>...</td>\n",
       "      <td>Q</td>\n",
       "      <td>64</td>\n",
       "      <td>2011-06-08 19:27:25.093</td>\n",
       "      <td>19.0</td>\n",
       "      <td>60</td>\n",
       "      <td>True</td>\n",
       "      <td>0 days 00:50:12.600000</td>\n",
       "      <td>True</td>\n",
       "      <td>True</td>\n",
       "      <td>True</td>\n",
       "    </tr>\n",
       "    <tr>\n",
       "      <th>2</th>\n",
       "      <td>3</td>\n",
       "      <td>1</td>\n",
       "      <td>29</td>\n",
       "      <td>2011-06-08 18:37:45.593</td>\n",
       "      <td>35</td>\n",
       "      <td>4732.0</td>\n",
       "      <td>&lt;p&gt;I've got what I think is a cedar tree in my...</td>\n",
       "      <td>6</td>\n",
       "      <td>109</td>\n",
       "      <td>2011-07-17 14:35:42.393</td>\n",
       "      <td>...</td>\n",
       "      <td>Q</td>\n",
       "      <td>29</td>\n",
       "      <td>2011-06-08 18:58:57.390</td>\n",
       "      <td>19.0</td>\n",
       "      <td>47</td>\n",
       "      <td>True</td>\n",
       "      <td>0 days 00:21:11.797000</td>\n",
       "      <td>True</td>\n",
       "      <td>True</td>\n",
       "      <td>True</td>\n",
       "    </tr>\n",
       "    <tr>\n",
       "      <th>3</th>\n",
       "      <td>4</td>\n",
       "      <td>1</td>\n",
       "      <td>11</td>\n",
       "      <td>2011-06-08 18:37:53.583</td>\n",
       "      <td>31</td>\n",
       "      <td>404.0</td>\n",
       "      <td>&lt;p&gt;I've got a big, lovely rhubarb plant in my ...</td>\n",
       "      <td>20</td>\n",
       "      <td>7305</td>\n",
       "      <td>2016-02-19 00:47:35.537</td>\n",
       "      <td>...</td>\n",
       "      <td>Q</td>\n",
       "      <td>11</td>\n",
       "      <td>2011-06-08 18:40:29.263</td>\n",
       "      <td>23.0</td>\n",
       "      <td>23</td>\n",
       "      <td>True</td>\n",
       "      <td>0 days 00:02:35.680000</td>\n",
       "      <td>True</td>\n",
       "      <td>True</td>\n",
       "      <td>True</td>\n",
       "    </tr>\n",
       "    <tr>\n",
       "      <th>5</th>\n",
       "      <td>6</td>\n",
       "      <td>1</td>\n",
       "      <td>None</td>\n",
       "      <td>2011-06-08 18:39:09.920</td>\n",
       "      <td>29</td>\n",
       "      <td>4531.0</td>\n",
       "      <td>&lt;p&gt;My town recently took down a large 80 year ...</td>\n",
       "      <td>23</td>\n",
       "      <td>23</td>\n",
       "      <td>2011-06-08 18:58:27.547</td>\n",
       "      <td>...</td>\n",
       "      <td>Q</td>\n",
       "      <td>NaN</td>\n",
       "      <td>NaT</td>\n",
       "      <td>NaN</td>\n",
       "      <td>NaN</td>\n",
       "      <td>True</td>\n",
       "      <td>NaT</td>\n",
       "      <td>False</td>\n",
       "      <td>False</td>\n",
       "      <td>False</td>\n",
       "    </tr>\n",
       "  </tbody>\n",
       "</table>\n",
       "<p>5 rows × 35 columns</p>\n",
       "</div>"
      ],
      "text/plain": [
       "  Id_x PostTypeId AcceptedAnswerId          CreationDate_x  Score_x  \\\n",
       "0    1          1                9 2011-06-08 18:35:50.450       27   \n",
       "1    2          1               64 2011-06-08 18:37:12.493       28   \n",
       "2    3          1               29 2011-06-08 18:37:45.593       35   \n",
       "3    4          1               11 2011-06-08 18:37:53.583       31   \n",
       "5    6          1             None 2011-06-08 18:39:09.920       29   \n",
       "\n",
       "   ViewCount                                               Body OwnerUserId_x  \\\n",
       "0   152839.0  <p>Which side of a house will get the most sun...             9   \n",
       "1     3128.0  <p>When I try to grow \"upside-down\" tomatoes, ...            11   \n",
       "2     4732.0  <p>I've got what I think is a cedar tree in my...             6   \n",
       "3      404.0  <p>I've got a big, lovely rhubarb plant in my ...            20   \n",
       "5     4531.0  <p>My town recently took down a large 80 year ...            23   \n",
       "\n",
       "  LastEditorUserId            LastEditDate  ... PostType Id_y  \\\n",
       "0              109 2011-07-25 05:14:51.753  ...        Q    9   \n",
       "1              109 2011-07-06 19:04:30.607  ...        Q   64   \n",
       "2              109 2011-07-17 14:35:42.393  ...        Q   29   \n",
       "3             7305 2016-02-19 00:47:35.537  ...        Q   11   \n",
       "5               23 2011-06-08 18:58:27.547  ...        Q  NaN   \n",
       "\n",
       "           CreationDate_y  Score_y  OwnerUserId_y is_answered  \\\n",
       "0 2011-06-08 18:39:49.137     30.0             32        True   \n",
       "1 2011-06-08 19:27:25.093     19.0             60        True   \n",
       "2 2011-06-08 18:58:57.390     19.0             47        True   \n",
       "3 2011-06-08 18:40:29.263     23.0             23        True   \n",
       "5                     NaT      NaN            NaN        True   \n",
       "\n",
       "   accepted_answer_delay  is_timely is_accepted_answer is_helpful  \n",
       "0 0 days 00:03:58.687000       True               True       True  \n",
       "1 0 days 00:50:12.600000       True               True       True  \n",
       "2 0 days 00:21:11.797000       True               True       True  \n",
       "3 0 days 00:02:35.680000       True               True       True  \n",
       "5                    NaT      False              False      False  \n",
       "\n",
       "[5 rows x 35 columns]"
      ]
     },
     "execution_count": 17,
     "metadata": {},
     "output_type": "execute_result"
    }
   ],
   "source": [
    "question_df['accepted_answer_delay'] = question_df['CreationDate_y'] - question_df['CreationDate_x']\n",
    "question_df['is_timely'] = question_df['accepted_answer_delay'].dt.days <= 2\n",
    "question_df['is_accepted_answer'] = ~question_df['AcceptedAnswerId'].isna()\n",
    "question_df['is_helpful'] = question_df['is_accepted_answer'] & question_df['is_timely']\n",
    "question_df.head()"
   ]
  },
  {
   "cell_type": "code",
   "execution_count": 18,
   "id": "51d72135",
   "metadata": {},
   "outputs": [
    {
     "data": {
      "text/plain": [
       "is_helpful\n",
       "False    0.620829\n",
       "True     0.379171\n",
       "Name: proportion, dtype: float64"
      ]
     },
     "execution_count": 18,
     "metadata": {},
     "output_type": "execute_result"
    }
   ],
   "source": [
    "question_df.is_helpful.value_counts(normalize=True)"
   ]
  },
  {
   "cell_type": "markdown",
   "id": "98466f95",
   "metadata": {},
   "source": [
    "# Examine helpfulness over time "
   ]
  },
  {
   "cell_type": "code",
   "execution_count": 19,
   "id": "69219da7",
   "metadata": {},
   "outputs": [
    {
     "name": "stderr",
     "output_type": "stream",
     "text": [
      "/var/folders/92/wbzrs_790cx5cmbrl2t79xx00000gn/T/ipykernel_20823/2705431938.py:1: SettingWithCopyWarning: \n",
      "A value is trying to be set on a copy of a slice from a DataFrame.\n",
      "Try using .loc[row_indexer,col_indexer] = value instead\n",
      "\n",
      "See the caveats in the documentation: https://pandas.pydata.org/pandas-docs/stable/user_guide/indexing.html#returning-a-view-versus-a-copy\n",
      "  question_df['month'] = pd.to_datetime((question_df['CreationDate_y'] - pd.offsets.MonthBegin(1)).dt.floor('D'))\n"
     ]
    }
   ],
   "source": [
    "question_df['month'] = pd.to_datetime((question_df['CreationDate_y'] - pd.offsets.MonthBegin(1)).dt.floor('D'))\n"
   ]
  },
  {
   "cell_type": "code",
   "execution_count": 20,
   "id": "0829e385",
   "metadata": {},
   "outputs": [
    {
     "data": {
      "text/plain": [
       "<Axes: xlabel='month'>"
      ]
     },
     "execution_count": 20,
     "metadata": {},
     "output_type": "execute_result"
    },
    {
     "data": {
      "image/png": "[encoded data removed]",
      "text/plain": [
       "<Figure size 640x480 with 1 Axes>"
      ]
     },
     "metadata": {},
     "output_type": "display_data"
    }
   ],
   "source": [
    "question_df.groupby('month').size().plot()"
   ]
  },
  {
   "cell_type": "code",
   "execution_count": 21,
   "id": "746c8df6",
   "metadata": {},
   "outputs": [],
   "source": [
    "grouped = question_df.groupby([pd.Grouper(key='month'), 'OwnerUserId_y']).\\\n",
    "    size().\\\n",
    "    rename('num_helpful_answers').\\\n",
    "    reset_index().\\\n",
    "    sort_values(['OwnerUserId_y', 'month'])"
   ]
  },
  {
   "cell_type": "code",
   "execution_count": 22,
   "id": "5f85b82e",
   "metadata": {},
   "outputs": [
    {
     "data": {
      "text/html": [
       "<div>\n",
       "<style scoped>\n",
       "    .dataframe tbody tr th:only-of-type {\n",
       "        vertical-align: middle;\n",
       "    }\n",
       "\n",
       "    .dataframe tbody tr th {\n",
       "        vertical-align: top;\n",
       "    }\n",
       "\n",
       "    .dataframe thead th {\n",
       "        text-align: right;\n",
       "    }\n",
       "</style>\n",
       "<table border=\"1\" class=\"dataframe\">\n",
       "  <thead>\n",
       "    <tr style=\"text-align: right;\">\n",
       "      <th></th>\n",
       "      <th>month</th>\n",
       "      <th>OwnerUserId_y</th>\n",
       "      <th>num_helpful_answers</th>\n",
       "    </tr>\n",
       "  </thead>\n",
       "  <tbody>\n",
       "    <tr>\n",
       "      <th>6</th>\n",
       "      <td>2011-06-01</td>\n",
       "      <td>10</td>\n",
       "      <td>9</td>\n",
       "    </tr>\n",
       "    <tr>\n",
       "      <th>81</th>\n",
       "      <td>2011-08-01</td>\n",
       "      <td>10</td>\n",
       "      <td>1</td>\n",
       "    </tr>\n",
       "    <tr>\n",
       "      <th>181</th>\n",
       "      <td>2012-03-01</td>\n",
       "      <td>1007</td>\n",
       "      <td>1</td>\n",
       "    </tr>\n",
       "    <tr>\n",
       "      <th>199</th>\n",
       "      <td>2012-04-01</td>\n",
       "      <td>1007</td>\n",
       "      <td>1</td>\n",
       "    </tr>\n",
       "    <tr>\n",
       "      <th>7</th>\n",
       "      <td>2011-06-01</td>\n",
       "      <td>102</td>\n",
       "      <td>3</td>\n",
       "    </tr>\n",
       "    <tr>\n",
       "      <th>...</th>\n",
       "      <td>...</td>\n",
       "      <td>...</td>\n",
       "      <td>...</td>\n",
       "    </tr>\n",
       "    <tr>\n",
       "      <th>197</th>\n",
       "      <td>2012-03-01</td>\n",
       "      <td>985</td>\n",
       "      <td>1</td>\n",
       "    </tr>\n",
       "    <tr>\n",
       "      <th>58</th>\n",
       "      <td>2011-06-01</td>\n",
       "      <td>99</td>\n",
       "      <td>4</td>\n",
       "    </tr>\n",
       "    <tr>\n",
       "      <th>98</th>\n",
       "      <td>2011-08-01</td>\n",
       "      <td>99</td>\n",
       "      <td>1</td>\n",
       "    </tr>\n",
       "    <tr>\n",
       "      <th>217</th>\n",
       "      <td>2012-04-01</td>\n",
       "      <td>99</td>\n",
       "      <td>1</td>\n",
       "    </tr>\n",
       "    <tr>\n",
       "      <th>198</th>\n",
       "      <td>2012-03-01</td>\n",
       "      <td>992</td>\n",
       "      <td>1</td>\n",
       "    </tr>\n",
       "  </tbody>\n",
       "</table>\n",
       "<p>2519 rows × 3 columns</p>\n",
       "</div>"
      ],
      "text/plain": [
       "         month OwnerUserId_y  num_helpful_answers\n",
       "6   2011-06-01            10                    9\n",
       "81  2011-08-01            10                    1\n",
       "181 2012-03-01          1007                    1\n",
       "199 2012-04-01          1007                    1\n",
       "7   2011-06-01           102                    3\n",
       "..         ...           ...                  ...\n",
       "197 2012-03-01           985                    1\n",
       "58  2011-06-01            99                    4\n",
       "98  2011-08-01            99                    1\n",
       "217 2012-04-01            99                    1\n",
       "198 2012-03-01           992                    1\n",
       "\n",
       "[2519 rows x 3 columns]"
      ]
     },
     "execution_count": 22,
     "metadata": {},
     "output_type": "execute_result"
    }
   ],
   "source": [
    "grouped"
   ]
  },
  {
   "cell_type": "code",
   "execution_count": 23,
   "id": "70e3afb3",
   "metadata": {},
   "outputs": [
    {
     "data": {
      "text/html": [
       "<div>\n",
       "<style scoped>\n",
       "    .dataframe tbody tr th:only-of-type {\n",
       "        vertical-align: middle;\n",
       "    }\n",
       "\n",
       "    .dataframe tbody tr th {\n",
       "        vertical-align: top;\n",
       "    }\n",
       "\n",
       "    .dataframe thead th {\n",
       "        text-align: right;\n",
       "    }\n",
       "</style>\n",
       "<table border=\"1\" class=\"dataframe\">\n",
       "  <thead>\n",
       "    <tr style=\"text-align: right;\">\n",
       "      <th></th>\n",
       "      <th>OwnerUserId_y</th>\n",
       "      <th>CreationDate_y</th>\n",
       "      <th>month</th>\n",
       "    </tr>\n",
       "  </thead>\n",
       "  <tbody>\n",
       "    <tr>\n",
       "      <th>0</th>\n",
       "      <td>32</td>\n",
       "      <td>2011-06-08 18:39:49.137</td>\n",
       "      <td>2011-06-01</td>\n",
       "    </tr>\n",
       "    <tr>\n",
       "      <th>1</th>\n",
       "      <td>60</td>\n",
       "      <td>2011-06-08 19:27:25.093</td>\n",
       "      <td>2011-06-01</td>\n",
       "    </tr>\n",
       "    <tr>\n",
       "      <th>2</th>\n",
       "      <td>47</td>\n",
       "      <td>2011-06-08 18:58:57.390</td>\n",
       "      <td>2011-06-01</td>\n",
       "    </tr>\n",
       "    <tr>\n",
       "      <th>3</th>\n",
       "      <td>23</td>\n",
       "      <td>2011-06-08 18:40:29.263</td>\n",
       "      <td>2011-06-01</td>\n",
       "    </tr>\n",
       "    <tr>\n",
       "      <th>6</th>\n",
       "      <td>5</td>\n",
       "      <td>2011-06-09 22:53:27.483</td>\n",
       "      <td>2011-06-01</td>\n",
       "    </tr>\n",
       "  </tbody>\n",
       "</table>\n",
       "</div>"
      ],
      "text/plain": [
       "  OwnerUserId_y          CreationDate_y      month\n",
       "0            32 2011-06-08 18:39:49.137 2011-06-01\n",
       "1            60 2011-06-08 19:27:25.093 2011-06-01\n",
       "2            47 2011-06-08 18:58:57.390 2011-06-01\n",
       "3            23 2011-06-08 18:40:29.263 2011-06-01\n",
       "6             5 2011-06-09 22:53:27.483 2011-06-01"
      ]
     },
     "execution_count": 23,
     "metadata": {},
     "output_type": "execute_result"
    }
   ],
   "source": [
    "helpful_answers = question_df[question_df['is_helpful']][['OwnerUserId_y', 'CreationDate_y', 'month']]\n",
    "helpful_answers.head()"
   ]
  },
  {
   "cell_type": "code",
   "execution_count": 24,
   "id": "39c1bbb5",
   "metadata": {},
   "outputs": [
    {
     "name": "stderr",
     "output_type": "stream",
     "text": [
      "/var/folders/92/wbzrs_790cx5cmbrl2t79xx00000gn/T/ipykernel_20823/3558476448.py:2: FutureWarning: 'M' is deprecated and will be removed in a future version, please use 'ME' instead.\n",
      "  cross = pd.MultiIndex.from_product([pd.date_range(start=mi, end=ma, freq=\"M\"), helpful_answers.OwnerUserId_y.unique()])\n"
     ]
    }
   ],
   "source": [
    "mi, ma = helpful_answers.month.min(), helpful_answers.month.max()\n",
    "cross = pd.MultiIndex.from_product([pd.date_range(start=mi, end=ma, freq=\"M\"), helpful_answers.OwnerUserId_y.unique()])"
   ]
  },
  {
   "cell_type": "code",
   "execution_count": 25,
   "id": "442c7d25",
   "metadata": {},
   "outputs": [],
   "source": [
    "grouped = helpful_answers.groupby([pd.Grouper(key='month'), 'OwnerUserId_y']).\\\n",
    "    size().\\\n",
    "    rename('num_helpful_answers').\\\n",
    "    reset_index().\\\n",
    "    sort_values(['OwnerUserId_y', 'month'])"
   ]
  },
  {
   "cell_type": "code",
   "execution_count": 26,
   "id": "d712c5c9",
   "metadata": {},
   "outputs": [
    {
     "data": {
      "text/html": [
       "<div>\n",
       "<style scoped>\n",
       "    .dataframe tbody tr th:only-of-type {\n",
       "        vertical-align: middle;\n",
       "    }\n",
       "\n",
       "    .dataframe tbody tr th {\n",
       "        vertical-align: top;\n",
       "    }\n",
       "\n",
       "    .dataframe thead th {\n",
       "        text-align: right;\n",
       "    }\n",
       "</style>\n",
       "<table border=\"1\" class=\"dataframe\">\n",
       "  <thead>\n",
       "    <tr style=\"text-align: right;\">\n",
       "      <th></th>\n",
       "      <th></th>\n",
       "      <th>num_helpful_answers</th>\n",
       "    </tr>\n",
       "    <tr>\n",
       "      <th>month</th>\n",
       "      <th>OwnerUserId_y</th>\n",
       "      <th></th>\n",
       "    </tr>\n",
       "  </thead>\n",
       "  <tbody>\n",
       "    <tr>\n",
       "      <th>2011-06-01</th>\n",
       "      <th>10</th>\n",
       "      <td>9</td>\n",
       "    </tr>\n",
       "    <tr>\n",
       "      <th>2011-08-01</th>\n",
       "      <th>10</th>\n",
       "      <td>1</td>\n",
       "    </tr>\n",
       "    <tr>\n",
       "      <th>2012-04-01</th>\n",
       "      <th>1007</th>\n",
       "      <td>1</td>\n",
       "    </tr>\n",
       "    <tr>\n",
       "      <th>2011-06-01</th>\n",
       "      <th>102</th>\n",
       "      <td>3</td>\n",
       "    </tr>\n",
       "    <tr>\n",
       "      <th>2012-03-01</th>\n",
       "      <th>102</th>\n",
       "      <td>1</td>\n",
       "    </tr>\n",
       "  </tbody>\n",
       "</table>\n",
       "</div>"
      ],
      "text/plain": [
       "                          num_helpful_answers\n",
       "month      OwnerUserId_y                     \n",
       "2011-06-01 10                               9\n",
       "2011-08-01 10                               1\n",
       "2012-04-01 1007                             1\n",
       "2011-06-01 102                              3\n",
       "2012-03-01 102                              1"
      ]
     },
     "execution_count": 26,
     "metadata": {},
     "output_type": "execute_result"
    }
   ],
   "source": [
    "grouped.set_index(['month', 'OwnerUserId_y']).head()"
   ]
  },
  {
   "cell_type": "code",
   "execution_count": 27,
   "id": "02b31483",
   "metadata": {},
   "outputs": [
    {
     "data": {
      "image/png": "[encoded data removed]",
      "text/plain": [
       "<Figure size 640x480 with 1 Axes>"
      ]
     },
     "metadata": {},
     "output_type": "display_data"
    }
   ],
   "source": [
    "user_helpful_answer_count = helpful_answers.groupby('OwnerUserId_y').size().sort_values(ascending=False)\n",
    "user_helpful_answer_count.hist(bins=20)\n",
    "from matplotlib import pyplot as plt\n",
    "plt.xlabel(f'Number of helpful answers')\n",
    "plt.ylabel('Number of users')\n",
    "plt.title('Histogram of number of helpful answers per user', wrap=True)\n",
    "plt.tight_layout()"
   ]
  },
  {
   "cell_type": "code",
   "execution_count": 28,
   "id": "165dec94",
   "metadata": {},
   "outputs": [],
   "source": [
    "# ().dropna().dt.days.clip(upper=30).hist() # this is throwing an error for me, not sure if it works on others' machines\n"
   ]
  },
  {
   "cell_type": "markdown",
   "id": "6a6837b6",
   "metadata": {},
   "source": [
    "# Idenfity top helpful users"
   ]
  },
  {
   "cell_type": "code",
   "execution_count": 29,
   "id": "9095aa1e",
   "metadata": {},
   "outputs": [
    {
     "data": {
      "text/plain": [
       "np.float64(33.200000000000045)"
      ]
     },
     "execution_count": 29,
     "metadata": {},
     "output_type": "execute_result"
    }
   ],
   "source": [
    "import numpy as np\n",
    "np.percentile(user_helpful_answer_count, 95)"
   ]
  },
  {
   "cell_type": "code",
   "execution_count": 30,
   "id": "0138873a",
   "metadata": {},
   "outputs": [
    {
     "data": {
      "text/plain": [
       "OwnerUserId_y\n",
       "1380     1498\n",
       "499       552\n",
       "3351      361\n",
       "419       332\n",
       "20056     240\n",
       "dtype: int64"
      ]
     },
     "execution_count": 30,
     "metadata": {},
     "output_type": "execute_result"
    }
   ],
   "source": [
    "user_helpful_answer_count.head()"
   ]
  },
  {
   "cell_type": "code",
   "execution_count": 31,
   "id": "2029a375",
   "metadata": {},
   "outputs": [],
   "source": [
    "top_users = user_helpful_answer_count[user_helpful_answer_count >= 33]"
   ]
  },
  {
   "cell_type": "markdown",
   "id": "fe66c4bf",
   "metadata": {},
   "source": [
    "## When are helpful users active?"
   ]
  },
  {
   "cell_type": "markdown",
   "id": "c1629bb7",
   "metadata": {},
   "source": [
    "### Analysing all helpful answers (2 day threshold)"
   ]
  },
  {
   "cell_type": "code",
   "execution_count": 32,
   "id": "f00e0099",
   "metadata": {},
   "outputs": [
    {
     "data": {
      "image/png": "[encoded data removed]",
      "text/plain": [
       "<Figure size 1400x500 with 2 Axes>"
      ]
     },
     "metadata": {},
     "output_type": "display_data"
    },
    {
     "name": "stdout",
     "output_type": "stream",
     "text": [
      "\n",
      "Peak activity hour: 8:00 ET (6.5% of answers)\n",
      "Lowest activity hour: 1:00 ET (1.5% of answers)\n",
      "\n",
      "Most active month: Jun (13.0% of answers)\n",
      "Least active month: Dec (4.9% of answers)\n"
     ]
    }
   ],
   "source": [
    "# Convert timestamps to US Eastern timezone and extract hour of day\n",
    "# Note timestamps are UTC (see: https://meta.stackexchange.com/questions/2677/database-schema-documentation-for-the-public-data-dump-and-sede?)\n",
    "helpful_answers['CreationDate_ET'] = helpful_answers['CreationDate_y'].dt.tz_localize('UTC').dt.tz_convert('US/Eastern')\n",
    "helpful_answers['hour_of_day'] = helpful_answers['CreationDate_ET'].dt.hour\n",
    "helpful_answers['month_of_year'] = helpful_answers['CreationDate_y'].dt.month\n",
    "\n",
    "# Visualization 1: Hour of day when helpful answers are posted\n",
    "import matplotlib.pyplot as plt\n",
    "\n",
    "fig, (ax1, ax2) = plt.subplots(1, 2, figsize=(14, 5))\n",
    "\n",
    "# Histogram by hour of day \n",
    "hour_counts = helpful_answers['hour_of_day'].value_counts(normalize=True).sort_index()\n",
    "ax1.bar(hour_counts.index, hour_counts.values, color='steelblue', alpha=0.7)\n",
    "ax1.set_xlabel('Hour of Day (US Eastern Time)', fontsize=11)\n",
    "ax1.set_ylabel('Proportion of Accepted Answers', fontsize=11)\n",
    "ax1.set_title('When Are Helpful Users Active?\\nDistribution by Hour of Day', fontsize=12, fontweight='bold')\n",
    "ax1.set_xticks(range(0, 24, 2))\n",
    "ax1.grid(axis='y', alpha=0.3)\n",
    "\n",
    "# Visualization 2: Month of year when helpful answers are posted\n",
    "month_counts = helpful_answers['month_of_year'].value_counts(normalize=True).sort_index()\n",
    "month_names = ['Jan', 'Feb', 'Mar', 'Apr', 'May', 'Jun', 'Jul', 'Aug', 'Sep', 'Oct', 'Nov', 'Dec']\n",
    "ax2.bar(month_counts.index, month_counts.values, color='coral', alpha=0.7)\n",
    "ax2.set_xlabel('Month of Year', fontsize=11)\n",
    "ax2.set_ylabel('Proportion of Accepted Answers', fontsize=11)\n",
    "ax2.set_title('When Are Helpful Users Active?\\nDistribution by Month', fontsize=12, fontweight='bold')\n",
    "ax2.set_xticks(range(1, 13))\n",
    "ax2.set_xticklabels(month_names, rotation=45)\n",
    "ax2.grid(axis='y', alpha=0.3)\n",
    "\n",
    "plt.tight_layout()\n",
    "plt.show()\n",
    "\n",
    "# Summary statistics\n",
    "print(f\"\\nPeak activity hour: {hour_counts.idxmax()}:00 ET ({hour_counts.max():.1%} of answers)\")\n",
    "print(f\"Lowest activity hour: {hour_counts.idxmin()}:00 ET ({hour_counts.min():.1%} of answers)\")\n",
    "print(f\"\\nMost active month: {month_names[month_counts.idxmax()-1]} ({month_counts.max():.1%} of answers)\")\n",
    "print(f\"Least active month: {month_names[month_counts.idxmin()-1]} ({month_counts.min():.1%} of answers)\")"
   ]
  },
  {
   "cell_type": "markdown",
   "id": "0c2bbb6a",
   "metadata": {},
   "source": [
    "### Analysing the top users (included users)\n"
   ]
  },
  {
   "cell_type": "code",
   "execution_count": 33,
   "id": "f544b910",
   "metadata": {},
   "outputs": [
    {
     "name": "stdout",
     "output_type": "stream",
     "text": [
      "Total top users: 29\n",
      "Total helpful answers from top users: 5358\n",
      "Proportion of all helpful answers: 79.1%\n",
      "\n"
     ]
    },
    {
     "name": "stderr",
     "output_type": "stream",
     "text": [
      "/var/folders/92/wbzrs_790cx5cmbrl2t79xx00000gn/T/ipykernel_20823/1756711012.py:2: SettingWithCopyWarning: \n",
      "A value is trying to be set on a copy of a slice from a DataFrame.\n",
      "Try using .loc[row_indexer,col_indexer] = value instead\n",
      "\n",
      "See the caveats in the documentation: https://pandas.pydata.org/pandas-docs/stable/user_guide/indexing.html#returning-a-view-versus-a-copy\n",
      "  question_df['CreationDate_ET'] = question_df['CreationDate_y'].dt.tz_localize('UTC').dt.tz_convert('US/Eastern')\n",
      "/var/folders/92/wbzrs_790cx5cmbrl2t79xx00000gn/T/ipykernel_20823/1756711012.py:3: SettingWithCopyWarning: \n",
      "A value is trying to be set on a copy of a slice from a DataFrame.\n",
      "Try using .loc[row_indexer,col_indexer] = value instead\n",
      "\n",
      "See the caveats in the documentation: https://pandas.pydata.org/pandas-docs/stable/user_guide/indexing.html#returning-a-view-versus-a-copy\n",
      "  question_df['hour_of_day'] = question_df['CreationDate_ET'].dt.hour\n",
      "/var/folders/92/wbzrs_790cx5cmbrl2t79xx00000gn/T/ipykernel_20823/1756711012.py:4: SettingWithCopyWarning: \n",
      "A value is trying to be set on a copy of a slice from a DataFrame.\n",
      "Try using .loc[row_indexer,col_indexer] = value instead\n",
      "\n",
      "See the caveats in the documentation: https://pandas.pydata.org/pandas-docs/stable/user_guide/indexing.html#returning-a-view-versus-a-copy\n",
      "  question_df['month_of_year'] = question_df['CreationDate_y'].dt.month\n"
     ]
    },
    {
     "data": {
      "image/png": "[encoded data removed]",
      "text/plain": [
       "<Figure size 1400x500 with 2 Axes>"
      ]
     },
     "metadata": {},
     "output_type": "display_data"
    }
   ],
   "source": [
    "# Add timezone and extract day/month\n",
    "question_df['CreationDate_ET'] = question_df['CreationDate_y'].dt.tz_localize('UTC').dt.tz_convert('US/Eastern')\n",
    "question_df['hour_of_day'] = question_df['CreationDate_ET'].dt.hour\n",
    "question_df['month_of_year'] = question_df['CreationDate_y'].dt.month\n",
    "\n",
    "# Calculating the same stuff but for top users according to Max's criteria\n",
    "helpful_answers_top_users = question_df[question_df['OwnerUserId_y'].isin(top_users.index)].copy()\n",
    "\n",
    "# # Add timezone and extract day/month\n",
    "# helpful_answers_top_users['CreationDate_ET'] = helpful_answers_top_users['CreationDate_y'].dt.tz_localize('UTC').dt.tz_convert('US/Eastern')\n",
    "# helpful_answers_top_users['hour_of_day'] = helpful_answers_top_users['CreationDate_ET'].dt.hour\n",
    "# helpful_answers_top_users['month_of_year'] = helpful_answers_top_users['CreationDate_y'].dt.month\n",
    "\n",
    "\n",
    "print(f\"Total top users: {len(top_users)}\")\n",
    "print(f\"Total helpful answers from top users: {len(helpful_answers_top_users)}\")\n",
    "print(f\"Proportion of all helpful answers: {len(helpful_answers_top_users)/len(helpful_answers):.1%}\\n\")\n",
    "\n",
    "# Create visualizations comparing all users vs top users\n",
    "fig, axes = plt.subplots(1, 2, figsize=(14, 5))\n",
    "\n",
    "# Hour of day comparison\n",
    "hour_counts_all = question_df['hour_of_day'].value_counts(normalize=True).sort_index()\n",
    "hour_counts_top = helpful_answers_top_users['hour_of_day'].value_counts(normalize=True).sort_index()\n",
    "\n",
    "ax1 = axes[0]\n",
    "ax1.plot(hour_counts_all.index, hour_counts_all.values, 'o-', label='All users', alpha=0.7, linewidth=2)\n",
    "ax1.plot(hour_counts_top.index, hour_counts_top.values, 's-', label='Top users only', alpha=0.7, linewidth=2)\n",
    "ax1.set_xlabel('Hour of Day (US Eastern Time)', fontsize=11)\n",
    "ax1.set_ylabel('Proportion of Helpful Answers', fontsize=11)\n",
    "ax1.set_title('Activity by Hour: Top Users vs All Users', fontsize=12, fontweight='bold')\n",
    "ax1.set_xticks(range(0, 24, 2))\n",
    "ax1.legend()\n",
    "ax1.grid(axis='y', alpha=0.3)\n",
    "\n",
    "# Month comparison\n",
    "month_counts_all = question_df['month_of_year'].value_counts(normalize=True).sort_index()\n",
    "month_counts_top = helpful_answers_top_users['month_of_year'].value_counts(normalize=True).sort_index()\n",
    "month_names = ['Jan', 'Feb', 'Mar', 'Apr', 'May', 'Jun', 'Jul', 'Aug', 'Sep', 'Oct', 'Nov', 'Dec']\n",
    "\n",
    "ax2 = axes[1]\n",
    "x = range(1, 13)\n",
    "width = 0.35\n",
    "ax2.bar([i - width/2 for i in x], [month_counts_all.get(i, 0) for i in x], width, label='All users', alpha=0.7)\n",
    "ax2.bar([i + width/2 for i in x], [month_counts_top.get(i, 0) for i in x], width, label='Top users only', alpha=0.7)\n",
    "ax2.set_xlabel('Month of Year', fontsize=11)\n",
    "ax2.set_ylabel('Proportion of Helpful Answers', fontsize=11)\n",
    "ax2.set_title('Activity by Month: Top Users vs All Users', fontsize=12, fontweight='bold')\n",
    "ax2.set_xticks(range(1, 13))\n",
    "ax2.set_xticklabels(month_names, rotation=45)\n",
    "ax2.legend()\n",
    "ax2.grid(axis='y', alpha=0.3)\n",
    "\n",
    "plt.tight_layout()\n",
    "plt.show()\n"
   ]
  },
  {
   "cell_type": "markdown",
   "id": "e585c895",
   "metadata": {},
   "source": [
    "# Comparing to score-based metrics"
   ]
  },
  {
   "cell_type": "markdown",
   "id": "c96338f9",
   "metadata": {},
   "source": [
    "### Scores & Always helpful?"
   ]
  },
  {
   "cell_type": "code",
   "execution_count": 34,
   "id": "c4a2d426",
   "metadata": {},
   "outputs": [],
   "source": [
    "user_score = question_df[question_df['is_helpful']][[\"Score_y\", \"Id_y\",\"accepted_answer_delay\",\"OwnerUserId_y\",\"CreationDate_y\"]]\n",
    "user_score['CreationDate_y'] = pd.to_datetime(user_score['CreationDate_y'])\n",
    "user_score['month'] = user_score['CreationDate_y'].dt.to_period('M')  \n",
    "user_score['year'] = user_score['CreationDate_y'].dt.year          "
   ]
  },
  {
   "cell_type": "code",
   "execution_count": 35,
   "id": "2f478d96",
   "metadata": {},
   "outputs": [
    {
     "data": {
      "image/png": "[encoded data removed]",
      "text/plain": [
       "<Figure size 640x480 with 1 Axes>"
      ]
     },
     "metadata": {},
     "output_type": "display_data"
    }
   ],
   "source": [
    "import matplotlib.pyplot as plt\n",
    "plt.hist(user_score[\"Score_y\"], bins=50, edgecolor='black')\n",
    "\n",
    "plt.title('Distribution of the Scores of Users (no year limitation)')\n",
    "plt.xlabel('Score')\n",
    "plt.ylabel('Number of Users')\n",
    "\n",
    "plt.show()"
   ]
  },
  {
   "cell_type": "code",
   "execution_count": 36,
   "id": "42200a16",
   "metadata": {},
   "outputs": [
    {
     "data": {
      "text/html": [
       "<div>\n",
       "<style scoped>\n",
       "    .dataframe tbody tr th:only-of-type {\n",
       "        vertical-align: middle;\n",
       "    }\n",
       "\n",
       "    .dataframe tbody tr th {\n",
       "        vertical-align: top;\n",
       "    }\n",
       "\n",
       "    .dataframe thead th {\n",
       "        text-align: right;\n",
       "    }\n",
       "</style>\n",
       "<table border=\"1\" class=\"dataframe\">\n",
       "  <thead>\n",
       "    <tr style=\"text-align: right;\">\n",
       "      <th></th>\n",
       "      <th>OwnerUserId_y</th>\n",
       "      <th>num_answers</th>\n",
       "      <th>total_score</th>\n",
       "      <th>avg_score</th>\n",
       "      <th>contribution</th>\n",
       "    </tr>\n",
       "  </thead>\n",
       "  <tbody>\n",
       "    <tr>\n",
       "      <th>0</th>\n",
       "      <td>10</td>\n",
       "      <td>10</td>\n",
       "      <td>126.0</td>\n",
       "      <td>12.600000</td>\n",
       "      <td>11.560000</td>\n",
       "    </tr>\n",
       "    <tr>\n",
       "      <th>1</th>\n",
       "      <td>1007</td>\n",
       "      <td>1</td>\n",
       "      <td>4.0</td>\n",
       "      <td>4.000000</td>\n",
       "      <td>2.800000</td>\n",
       "    </tr>\n",
       "    <tr>\n",
       "      <th>2</th>\n",
       "      <td>102</td>\n",
       "      <td>4</td>\n",
       "      <td>58.0</td>\n",
       "      <td>14.500000</td>\n",
       "      <td>10.300000</td>\n",
       "    </tr>\n",
       "    <tr>\n",
       "      <th>3</th>\n",
       "      <td>1069</td>\n",
       "      <td>1</td>\n",
       "      <td>10.0</td>\n",
       "      <td>10.000000</td>\n",
       "      <td>6.400000</td>\n",
       "    </tr>\n",
       "    <tr>\n",
       "      <th>4</th>\n",
       "      <td>108</td>\n",
       "      <td>7</td>\n",
       "      <td>66.0</td>\n",
       "      <td>9.428571</td>\n",
       "      <td>8.457143</td>\n",
       "    </tr>\n",
       "    <tr>\n",
       "      <th>5</th>\n",
       "      <td>10805</td>\n",
       "      <td>37</td>\n",
       "      <td>162.0</td>\n",
       "      <td>4.378378</td>\n",
       "      <td>17.427027</td>\n",
       "    </tr>\n",
       "    <tr>\n",
       "      <th>6</th>\n",
       "      <td>10840</td>\n",
       "      <td>41</td>\n",
       "      <td>249.0</td>\n",
       "      <td>6.073171</td>\n",
       "      <td>20.043902</td>\n",
       "    </tr>\n",
       "    <tr>\n",
       "      <th>7</th>\n",
       "      <td>109</td>\n",
       "      <td>44</td>\n",
       "      <td>579.0</td>\n",
       "      <td>13.159091</td>\n",
       "      <td>25.495455</td>\n",
       "    </tr>\n",
       "    <tr>\n",
       "      <th>8</th>\n",
       "      <td>10934</td>\n",
       "      <td>1</td>\n",
       "      <td>12.0</td>\n",
       "      <td>12.000000</td>\n",
       "      <td>7.600000</td>\n",
       "    </tr>\n",
       "    <tr>\n",
       "      <th>9</th>\n",
       "      <td>1096</td>\n",
       "      <td>1</td>\n",
       "      <td>4.0</td>\n",
       "      <td>4.000000</td>\n",
       "      <td>2.800000</td>\n",
       "    </tr>\n",
       "    <tr>\n",
       "      <th>10</th>\n",
       "      <td>10987</td>\n",
       "      <td>6</td>\n",
       "      <td>28.0</td>\n",
       "      <td>4.666667</td>\n",
       "      <td>5.200000</td>\n",
       "    </tr>\n",
       "    <tr>\n",
       "      <th>11</th>\n",
       "      <td>11010</td>\n",
       "      <td>1</td>\n",
       "      <td>4.0</td>\n",
       "      <td>4.000000</td>\n",
       "      <td>2.800000</td>\n",
       "    </tr>\n",
       "    <tr>\n",
       "      <th>12</th>\n",
       "      <td>11029</td>\n",
       "      <td>1</td>\n",
       "      <td>1.0</td>\n",
       "      <td>1.000000</td>\n",
       "      <td>1.000000</td>\n",
       "    </tr>\n",
       "    <tr>\n",
       "      <th>13</th>\n",
       "      <td>11061</td>\n",
       "      <td>8</td>\n",
       "      <td>36.0</td>\n",
       "      <td>4.500000</td>\n",
       "      <td>5.900000</td>\n",
       "    </tr>\n",
       "    <tr>\n",
       "      <th>14</th>\n",
       "      <td>111</td>\n",
       "      <td>1</td>\n",
       "      <td>12.0</td>\n",
       "      <td>12.000000</td>\n",
       "      <td>7.600000</td>\n",
       "    </tr>\n",
       "    <tr>\n",
       "      <th>15</th>\n",
       "      <td>11104</td>\n",
       "      <td>1</td>\n",
       "      <td>1.0</td>\n",
       "      <td>1.000000</td>\n",
       "      <td>1.000000</td>\n",
       "    </tr>\n",
       "    <tr>\n",
       "      <th>16</th>\n",
       "      <td>11120</td>\n",
       "      <td>118</td>\n",
       "      <td>344.0</td>\n",
       "      <td>2.915254</td>\n",
       "      <td>48.949153</td>\n",
       "    </tr>\n",
       "    <tr>\n",
       "      <th>17</th>\n",
       "      <td>1116</td>\n",
       "      <td>3</td>\n",
       "      <td>20.0</td>\n",
       "      <td>6.666667</td>\n",
       "      <td>5.200000</td>\n",
       "    </tr>\n",
       "    <tr>\n",
       "      <th>18</th>\n",
       "      <td>11169</td>\n",
       "      <td>1</td>\n",
       "      <td>2.0</td>\n",
       "      <td>2.000000</td>\n",
       "      <td>1.600000</td>\n",
       "    </tr>\n",
       "    <tr>\n",
       "      <th>19</th>\n",
       "      <td>112</td>\n",
       "      <td>1</td>\n",
       "      <td>8.0</td>\n",
       "      <td>8.000000</td>\n",
       "      <td>5.200000</td>\n",
       "    </tr>\n",
       "  </tbody>\n",
       "</table>\n",
       "</div>"
      ],
      "text/plain": [
       "   OwnerUserId_y  num_answers  total_score  avg_score  contribution\n",
       "0             10           10        126.0  12.600000     11.560000\n",
       "1           1007            1          4.0   4.000000      2.800000\n",
       "2            102            4         58.0  14.500000     10.300000\n",
       "3           1069            1         10.0  10.000000      6.400000\n",
       "4            108            7         66.0   9.428571      8.457143\n",
       "5          10805           37        162.0   4.378378     17.427027\n",
       "6          10840           41        249.0   6.073171     20.043902\n",
       "7            109           44        579.0  13.159091     25.495455\n",
       "8          10934            1         12.0  12.000000      7.600000\n",
       "9           1096            1          4.0   4.000000      2.800000\n",
       "10         10987            6         28.0   4.666667      5.200000\n",
       "11         11010            1          4.0   4.000000      2.800000\n",
       "12         11029            1          1.0   1.000000      1.000000\n",
       "13         11061            8         36.0   4.500000      5.900000\n",
       "14           111            1         12.0  12.000000      7.600000\n",
       "15         11104            1          1.0   1.000000      1.000000\n",
       "16         11120          118        344.0   2.915254     48.949153\n",
       "17          1116            3         20.0   6.666667      5.200000\n",
       "18         11169            1          2.0   2.000000      1.600000\n",
       "19           112            1          8.0   8.000000      5.200000"
      ]
     },
     "execution_count": 36,
     "metadata": {},
     "output_type": "execute_result"
    }
   ],
   "source": [
    "# Contributions considering scores?\n",
    "user_stats = user_score.groupby('OwnerUserId_y').agg(\n",
    "    num_answers=('OwnerUserId_y', 'count'),\n",
    "    total_score=('Score_y', 'sum'),\n",
    "    avg_score=('Score_y', 'mean')\n",
    ").reset_index()\n",
    "\n",
    "user_stats['contribution'] = (\n",
    "    0.6 * user_stats['avg_score'] +\n",
    "    0.4 * user_stats['num_answers']\n",
    ")\n",
    "\n",
    "user_stats.head(20)\n"
   ]
  },
  {
   "cell_type": "code",
   "execution_count": 37,
   "id": "2b7d73a4",
   "metadata": {},
   "outputs": [
    {
     "data": {
      "text/html": [
       "<div>\n",
       "<style scoped>\n",
       "    .dataframe tbody tr th:only-of-type {\n",
       "        vertical-align: middle;\n",
       "    }\n",
       "\n",
       "    .dataframe tbody tr th {\n",
       "        vertical-align: top;\n",
       "    }\n",
       "\n",
       "    .dataframe thead th {\n",
       "        text-align: right;\n",
       "    }\n",
       "</style>\n",
       "<table border=\"1\" class=\"dataframe\">\n",
       "  <thead>\n",
       "    <tr style=\"text-align: right;\">\n",
       "      <th></th>\n",
       "      <th>OwnerUserId_y</th>\n",
       "      <th>num_answers</th>\n",
       "      <th>total_score</th>\n",
       "      <th>avg_score</th>\n",
       "      <th>contribution</th>\n",
       "    </tr>\n",
       "  </thead>\n",
       "  <tbody>\n",
       "    <tr>\n",
       "      <th>62</th>\n",
       "      <td>1380</td>\n",
       "      <td>1498</td>\n",
       "      <td>5482.0</td>\n",
       "      <td>3.659546</td>\n",
       "      <td>601.395728</td>\n",
       "    </tr>\n",
       "    <tr>\n",
       "      <th>471</th>\n",
       "      <td>499</td>\n",
       "      <td>552</td>\n",
       "      <td>2518.0</td>\n",
       "      <td>4.561594</td>\n",
       "      <td>223.536957</td>\n",
       "    </tr>\n",
       "    <tr>\n",
       "      <th>393</th>\n",
       "      <td>3351</td>\n",
       "      <td>361</td>\n",
       "      <td>1000.0</td>\n",
       "      <td>2.770083</td>\n",
       "      <td>146.062050</td>\n",
       "    </tr>\n",
       "    <tr>\n",
       "      <th>450</th>\n",
       "      <td>419</td>\n",
       "      <td>332</td>\n",
       "      <td>1823.0</td>\n",
       "      <td>5.490964</td>\n",
       "      <td>136.094578</td>\n",
       "    </tr>\n",
       "    <tr>\n",
       "      <th>215</th>\n",
       "      <td>20056</td>\n",
       "      <td>240</td>\n",
       "      <td>694.0</td>\n",
       "      <td>2.891667</td>\n",
       "      <td>97.735000</td>\n",
       "    </tr>\n",
       "    <tr>\n",
       "      <th>110</th>\n",
       "      <td>15063</td>\n",
       "      <td>222</td>\n",
       "      <td>502.0</td>\n",
       "      <td>2.261261</td>\n",
       "      <td>90.156757</td>\n",
       "    </tr>\n",
       "    <tr>\n",
       "      <th>473</th>\n",
       "      <td>51</td>\n",
       "      <td>193</td>\n",
       "      <td>1853.0</td>\n",
       "      <td>9.601036</td>\n",
       "      <td>82.960622</td>\n",
       "    </tr>\n",
       "    <tr>\n",
       "      <th>494</th>\n",
       "      <td>6806</td>\n",
       "      <td>173</td>\n",
       "      <td>774.0</td>\n",
       "      <td>4.473988</td>\n",
       "      <td>71.884393</td>\n",
       "    </tr>\n",
       "    <tr>\n",
       "      <th>521</th>\n",
       "      <td>7456</td>\n",
       "      <td>153</td>\n",
       "      <td>798.0</td>\n",
       "      <td>5.215686</td>\n",
       "      <td>64.329412</td>\n",
       "    </tr>\n",
       "    <tr>\n",
       "      <th>199</th>\n",
       "      <td>19430</td>\n",
       "      <td>138</td>\n",
       "      <td>499.0</td>\n",
       "      <td>3.615942</td>\n",
       "      <td>57.369565</td>\n",
       "    </tr>\n",
       "    <tr>\n",
       "      <th>191</th>\n",
       "      <td>1894</td>\n",
       "      <td>134</td>\n",
       "      <td>626.0</td>\n",
       "      <td>4.671642</td>\n",
       "      <td>56.402985</td>\n",
       "    </tr>\n",
       "    <tr>\n",
       "      <th>16</th>\n",
       "      <td>11120</td>\n",
       "      <td>118</td>\n",
       "      <td>344.0</td>\n",
       "      <td>2.915254</td>\n",
       "      <td>48.949153</td>\n",
       "    </tr>\n",
       "    <tr>\n",
       "      <th>63</th>\n",
       "      <td>13830</td>\n",
       "      <td>105</td>\n",
       "      <td>396.0</td>\n",
       "      <td>3.771429</td>\n",
       "      <td>44.262857</td>\n",
       "    </tr>\n",
       "    <tr>\n",
       "      <th>155</th>\n",
       "      <td>17</td>\n",
       "      <td>1</td>\n",
       "      <td>70.0</td>\n",
       "      <td>70.000000</td>\n",
       "      <td>42.400000</td>\n",
       "    </tr>\n",
       "    <tr>\n",
       "      <th>499</th>\n",
       "      <td>69</td>\n",
       "      <td>79</td>\n",
       "      <td>712.0</td>\n",
       "      <td>9.012658</td>\n",
       "      <td>37.007595</td>\n",
       "    </tr>\n",
       "    <tr>\n",
       "      <th>432</th>\n",
       "      <td>394</td>\n",
       "      <td>78</td>\n",
       "      <td>720.0</td>\n",
       "      <td>9.230769</td>\n",
       "      <td>36.738462</td>\n",
       "    </tr>\n",
       "    <tr>\n",
       "      <th>507</th>\n",
       "      <td>7111</td>\n",
       "      <td>81</td>\n",
       "      <td>333.0</td>\n",
       "      <td>4.111111</td>\n",
       "      <td>34.866667</td>\n",
       "    </tr>\n",
       "    <tr>\n",
       "      <th>524</th>\n",
       "      <td>75</td>\n",
       "      <td>1</td>\n",
       "      <td>49.0</td>\n",
       "      <td>49.000000</td>\n",
       "      <td>29.800000</td>\n",
       "    </tr>\n",
       "    <tr>\n",
       "      <th>53</th>\n",
       "      <td>136</td>\n",
       "      <td>56</td>\n",
       "      <td>592.0</td>\n",
       "      <td>10.571429</td>\n",
       "      <td>28.742857</td>\n",
       "    </tr>\n",
       "    <tr>\n",
       "      <th>177</th>\n",
       "      <td>17672</td>\n",
       "      <td>65</td>\n",
       "      <td>157.0</td>\n",
       "      <td>2.415385</td>\n",
       "      <td>27.449231</td>\n",
       "    </tr>\n",
       "  </tbody>\n",
       "</table>\n",
       "</div>"
      ],
      "text/plain": [
       "    OwnerUserId_y  num_answers  total_score  avg_score  contribution\n",
       "62           1380         1498       5482.0   3.659546    601.395728\n",
       "471           499          552       2518.0   4.561594    223.536957\n",
       "393          3351          361       1000.0   2.770083    146.062050\n",
       "450           419          332       1823.0   5.490964    136.094578\n",
       "215         20056          240        694.0   2.891667     97.735000\n",
       "110         15063          222        502.0   2.261261     90.156757\n",
       "473            51          193       1853.0   9.601036     82.960622\n",
       "494          6806          173        774.0   4.473988     71.884393\n",
       "521          7456          153        798.0   5.215686     64.329412\n",
       "199         19430          138        499.0   3.615942     57.369565\n",
       "191          1894          134        626.0   4.671642     56.402985\n",
       "16          11120          118        344.0   2.915254     48.949153\n",
       "63          13830          105        396.0   3.771429     44.262857\n",
       "155            17            1         70.0  70.000000     42.400000\n",
       "499            69           79        712.0   9.012658     37.007595\n",
       "432           394           78        720.0   9.230769     36.738462\n",
       "507          7111           81        333.0   4.111111     34.866667\n",
       "524            75            1         49.0  49.000000     29.800000\n",
       "53            136           56        592.0  10.571429     28.742857\n",
       "177         17672           65        157.0   2.415385     27.449231"
      ]
     },
     "execution_count": 37,
     "metadata": {},
     "output_type": "execute_result"
    }
   ],
   "source": [
    "user_stats.sort_values(by='contribution', ascending=False).head(20)"
   ]
  },
  {
   "cell_type": "code",
   "execution_count": 38,
   "id": "bfcc4a0f",
   "metadata": {},
   "outputs": [
    {
     "data": {
      "image/png": "[encoded data removed]",
      "text/plain": [
       "<Figure size 640x480 with 1 Axes>"
      ]
     },
     "metadata": {},
     "output_type": "display_data"
    }
   ],
   "source": [
    "q_high = user_stats[\"contribution\"].quantile(0.99)  # 上1%\n",
    "\n",
    "filtered = user_stats[\n",
    "    (user_stats[\"contribution\"] <= q_high)\n",
    "]\n",
    "\n",
    "filtered.hist(bins=30, edgecolor=\"black\", column=\"contribution\")\n",
    "\n",
    "plt.title('Contribution of Users (no year limitation)')\n",
    "plt.xlabel('Contribution Score')\n",
    "plt.ylabel('Number of Users')\n",
    "\n",
    "plt.show()"
   ]
  },
  {
   "cell_type": "code",
   "execution_count": 39,
   "id": "bdc5bdb0",
   "metadata": {},
   "outputs": [
    {
     "name": "stdout",
     "output_type": "stream",
     "text": [
      "year           2010   2011  2012  2013  2014  2015  2016  2017  2018  2019  \\\n",
      "OwnerUserId_y                                                                \n",
      "10              0.0  115.6   0.0   0.0   0.0   0.0   0.0   0.0   0.0   0.0   \n",
      "1007            0.0    0.0   2.8   0.0   0.0   0.0   0.0   0.0   0.0   0.0   \n",
      "102             0.0   30.9  10.3   0.0   0.0   0.0   0.0   0.0   0.0   0.0   \n",
      "1069            0.0    0.0   6.4   0.0   0.0   0.0   0.0   0.0   0.0   0.0   \n",
      "108             0.0   59.2   0.0   0.0   0.0   0.0   0.0   0.0   0.0   0.0   \n",
      "...             ...    ...   ...   ...   ...   ...   ...   ...   ...   ...   \n",
      "9750            0.0    0.0   0.0   0.0   0.0   2.2   0.0   0.0   0.0   0.0   \n",
      "979             0.0    0.0   4.6   0.0   0.0   0.0   0.0   0.0   0.0   0.0   \n",
      "98              0.0    5.2   0.0   0.0   0.0   0.0   0.0   0.0   0.0   0.0   \n",
      "99              0.0   44.5   8.9   0.0   0.0   0.0   0.0   0.0   0.0   0.0   \n",
      "992             0.0    0.0   5.2   0.0   0.0   0.0   0.0   0.0   0.0   0.0   \n",
      "\n",
      "year           2020  2021  2022  2023  2024  \n",
      "OwnerUserId_y                                \n",
      "10              0.0   0.0   0.0   0.0   0.0  \n",
      "1007            0.0   0.0   0.0   0.0   0.0  \n",
      "102             0.0   0.0   0.0   0.0   0.0  \n",
      "1069            0.0   0.0   0.0   0.0   0.0  \n",
      "108             0.0   0.0   0.0   0.0   0.0  \n",
      "...             ...   ...   ...   ...   ...  \n",
      "9750            0.0   0.0   0.0   0.0   0.0  \n",
      "979             0.0   0.0   0.0   0.0   0.0  \n",
      "98              0.0   0.0   0.0   0.0   0.0  \n",
      "99              0.0   0.0   0.0   0.0   0.0  \n",
      "992             0.0   0.0   0.0   0.0   0.0  \n",
      "\n",
      "[559 rows x 15 columns]\n"
     ]
    }
   ],
   "source": [
    "# always helpful?\n",
    "alwaysornot = pd.merge(user_score, user_stats, how='inner', on='OwnerUserId_y')\n",
    "alwaysornot[\"contribution\"].describe\n",
    "\n",
    "yearly_contrib = alwaysornot.groupby(['OwnerUserId_y', 'year'])['contribution'].sum().reset_index()\n",
    "yearly_contrib.describe\n",
    "\n",
    "pivot = yearly_contrib.pivot(index='OwnerUserId_y', columns='year', values='contribution').fillna(0)\n",
    "print(pivot)"
   ]
  },
  {
   "cell_type": "code",
   "execution_count": 40,
   "id": "74ae8291",
   "metadata": {},
   "outputs": [
    {
     "data": {
      "image/png": "[encoded data removed]",
      "text/plain": [
       "<Figure size 640x480 with 1 Axes>"
      ]
     },
     "metadata": {},
     "output_type": "display_data"
    }
   ],
   "source": [
    "pivot.T.plot(legend=False, alpha=1)\n",
    "plt.title('User Contribution Trend Over Time')\n",
    "plt.xlabel('year')\n",
    "plt.ylabel('Contribution')\n",
    "plt.show()"
   ]
  },
  {
   "cell_type": "markdown",
   "id": "ff2f761b",
   "metadata": {},
   "source": [
    "### Reputation "
   ]
  },
  {
   "cell_type": "code",
   "execution_count": 41,
   "id": "d3df2b81",
   "metadata": {},
   "outputs": [],
   "source": [
    "user_helpful_answer_count = user_helpful_answer_count.reset_index().rename(columns={0: 'num_helpful_answers'})"
   ]
  },
  {
   "cell_type": "code",
   "execution_count": 42,
   "id": "d4a636a5",
   "metadata": {},
   "outputs": [],
   "source": [
    "question_user = pd.merge(left=user_helpful_answer_count, right=user_df, how='left', left_on='OwnerUserId_y', right_on='Id')"
   ]
  },
  {
   "cell_type": "code",
   "execution_count": 43,
   "id": "b8ee98e4",
   "metadata": {},
   "outputs": [
    {
     "data": {
      "text/plain": [
       "Text(0.5, 1.0, 'User Reputation vs Number of Helpful Answers Given')"
      ]
     },
     "execution_count": 43,
     "metadata": {},
     "output_type": "execute_result"
    },
    {
     "data": {
      "image/png": "[encoded data removed]",
      "text/plain": [
       "<Figure size 640x480 with 1 Axes>"
      ]
     },
     "metadata": {},
     "output_type": "display_data"
    }
   ],
   "source": [
    "plt.scatter(question_user['num_helpful_answers'], question_user['Reputation'])\n",
    "plt.xlabel('N Helpful Answers')\n",
    "plt.ylabel('User Reputation')\n",
    "plt.title('User Reputation vs Number of Helpful Answers Given', wrap=True)"
   ]
  },
  {
   "cell_type": "code",
   "execution_count": 44,
   "id": "9f1f68c4",
   "metadata": {},
   "outputs": [
    {
     "data": {
      "text/plain": [
       "array([[1.        , 0.96126385],\n",
       "       [0.96126385, 1.        ]])"
      ]
     },
     "execution_count": 44,
     "metadata": {},
     "output_type": "execute_result"
    }
   ],
   "source": [
    "np.corrcoef(question_user['num_helpful_answers'], question_user['Reputation'])"
   ]
  },
  {
   "cell_type": "markdown",
   "id": "36527785",
   "metadata": {},
   "source": [
    "# Q3. Your individual submission \n",
    "\n",
    "Your individual submission on Week 2 (from the sheet to be shared on Friday) will have two broad questions. One of these will be related to the Claude artifact that will be shared on Friday. The other will be related to this work. The question will be on the Friday assignment's sheet so you do not have to submit two sheets. It is posted here so you can see where we are going. \n",
    "\n",
    "## Defining helpfulness \n",
    "\n",
    "Describe two different ways of operationalising helpfulness. Report on these with descriptive statistics. One of these should be the form of helpfulness that is discussed in the group presentation. One should be a version that you have determined individually. It does need to not be complicated. Articulate the difference between these two interpretations of helpfulness and why you might opt for one over the other in some circumstance. Use evidence derived from code.\n",
    "\n",
    "The write up for this should be no longer than 300 words. Thus we are not expecting much exposition in terms of lit review or setup at this time. We will provide written feedback on your individual assignment. \n",
    "\n",
    "The feedback will be focused on: \n",
    "- **Writing**: Is it clear, have you presented a reasonable rationale for helpfulness and your interpretation of the data? \n",
    "- **Aesthetics**: Have you presented your data in a way that is legible? Can you print or display in a Jupyter Lab notebook data in a useful manner beyond raw `print(len(<object>))`?\n",
    "- **Code**: Is your code clear? That is, is your code modular, with short comments. You can use code from your group project within this so long as there is some additional code that you have written or some way to signify your own contribution to the code. (i.e. you do not have to rewrite the group's code base, only make use of it if warranted)\n",
    "\n",
    "You will also be asked to write an AI declaration. We are not inhibiting your use of AI tools, but we need to understand how deeply these are entwined within your practice. "
   ]
  },
  {
   "cell_type": "markdown",
   "id": "f67000fa",
   "metadata": {},
   "source": []
  }
 ],
 "metadata": {
  "kernelspec": {
   "display_name": "base",
   "language": "python",
   "name": "python3"
  },
  "language_info": {
   "codemirror_mode": {
    "name": "ipython",
    "version": 3
   },
   "file_extension": ".py",
   "mimetype": "text/x-python",
   "name": "python",
   "nbconvert_exporter": "python",
   "pygments_lexer": "ipython3",
   "version": "3.13.5"
  }
 },
 "nbformat": 4,
 "nbformat_minor": 5
}
